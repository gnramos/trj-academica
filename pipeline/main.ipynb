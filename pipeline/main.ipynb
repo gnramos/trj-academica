{
 "cells": [
  {
   "cell_type": "markdown",
   "id": "expired-rotation",
   "metadata": {},
   "source": [
    "# Notebook - Análise da evasão\n",
    "\n",
    "Dados do Instituto de Ciências Exatas (IE)."
   ]
  },
  {
   "cell_type": "markdown",
   "id": "stone-snapshot",
   "metadata": {},
   "source": [
    "Importando bibliotecas:"
   ]
  },
  {
   "cell_type": "code",
   "execution_count": 1,
   "id": "informative-smith",
   "metadata": {},
   "outputs": [],
   "source": [
    "import pandas as pd\n",
    "import numpy as np\n",
    "import matplotlib.pyplot as plt\n",
    "import seaborn as sns\n",
    "\n",
    "import sklearn.metrics\n",
    "from sklearn.model_selection import train_test_split\n",
    "from catboost import CatBoostClassifier\n",
    "\n",
    "import pre_process\n",
    "import utils\n",
    "\n",
    "%matplotlib inline"
   ]
  },
  {
   "cell_type": "markdown",
   "id": "funded-airfare",
   "metadata": {},
   "source": [
    " ### Leitura dos dados"
   ]
  },
  {
   "cell_type": "code",
   "execution_count": 2,
   "id": "7d801291",
   "metadata": {},
   "outputs": [],
   "source": [
    "import pre_process\n",
    "\n",
    "DATA_FILE = '../data/ie_data.csv'\n",
    "data_0 = pd.read_csv(DATA_FILE, sep=';', low_memory=False)"
   ]
  },
  {
   "cell_type": "markdown",
   "id": "4b72c712",
   "metadata": {},
   "source": [
    "## Pré-Processamento"
   ]
  },
  {
   "cell_type": "code",
   "execution_count": 3,
   "id": "bcfc95d6",
   "metadata": {},
   "outputs": [],
   "source": [
    "# Pre-Process\n",
    "columns = ['cep']\n",
    "data_0 = pre_process.format_data(data_0)\n",
    "data_0 = pre_process.public_school(data_0, columns)\n",
    "data_0 = pre_process.credits(data_0, columns)\n",
    "data_0 = pre_process.dropout(data_0, columns)\n",
    "data_0 = pre_process.course(data_0, columns)\n",
    "data_0 = pre_process.gender(data_0, columns)\n",
    "data_0 = pre_process.quota(data_0, columns)\n",
    "data_0 = pre_process.entry(data_0, columns)\n",
    "# data_0 = pre_process.cep(data_0, columns)\n",
    "\n",
    "# data_0 = pre_process.ira(data_0, columns)\n",
    "# data_0 = pre_process.programming_subjects(data_0, columns)"
   ]
  },
  {
   "cell_type": "code",
   "execution_count": null,
   "id": "dfbe62cf",
   "metadata": {},
   "outputs": [],
   "source": [
    "data_1 = data_0.copy()[columns].drop_duplicates()"
   ]
  },
  {
   "cell_type": "code",
   "execution_count": null,
   "id": "8c277c3d",
   "metadata": {},
   "outputs": [],
   "source": [
    "data_course = pre_process.divide_course(data_1)"
   ]
  },
  {
   "cell_type": "markdown",
   "id": "c88a2263",
   "metadata": {},
   "source": [
    "## Testes Mecatrônica"
   ]
  },
  {
   "cell_type": "code",
   "execution_count": 4,
   "id": "7de11358",
   "metadata": {},
   "outputs": [],
   "source": [
    "data_course = pre_process.divide_course(data_0)"
   ]
  },
  {
   "cell_type": "code",
   "execution_count": 5,
   "id": "c48fd3ba",
   "metadata": {},
   "outputs": [],
   "source": [
    "meca = data_course['engenharia mecatrônica']"
   ]
  },
  {
   "cell_type": "code",
   "execution_count": 6,
   "id": "30749965",
   "metadata": {},
   "outputs": [
    {
     "name": "stdout",
     "output_type": "stream",
     "text": [
      "(15365, 39)\n",
      "(13396, 39)\n",
      "(456, 52)\n"
     ]
    }
   ],
   "source": [
    "meca = pre_process.subjects(meca, columns)"
   ]
  },
  {
   "cell_type": "code",
   "execution_count": null,
   "id": "ccc19b3c",
   "metadata": {},
   "outputs": [],
   "source": [
    "data_1 = meca.copy()[columns].drop_duplicates()"
   ]
  },
  {
   "cell_type": "code",
   "execution_count": null,
   "id": "b981babd",
   "metadata": {},
   "outputs": [],
   "source": [
    "data_1 = pre_process.cep(data_1, columns)"
   ]
  },
  {
   "cell_type": "code",
   "execution_count": null,
   "id": "12e71597",
   "metadata": {},
   "outputs": [],
   "source": [
    "data_1.head()"
   ]
  },
  {
   "cell_type": "markdown",
   "id": "becdb39d",
   "metadata": {},
   "source": [
    "## Processamento"
   ]
  },
  {
   "cell_type": "code",
   "execution_count": null,
   "id": "00b5edba",
   "metadata": {},
   "outputs": [],
   "source": [
    "attr = 'dropout'\n",
    "X = data_1.drop(columns=[attr])\n",
    "y = data_1[attr]\n",
    "X_train, X_test, y_train, y_test = train_test_split(\n",
    "    X, y, test_size=0.3, random_state=42, stratify=y\n",
    ")"
   ]
  },
  {
   "cell_type": "code",
   "execution_count": null,
   "id": "fe17838a",
   "metadata": {},
   "outputs": [],
   "source": [
    "model = CatBoostClassifier()\n",
    "model.fit(X_train, y_train, cat_features=['course', 'entry'], plot=True)"
   ]
  },
  {
   "cell_type": "code",
   "execution_count": null,
   "id": "0d299595",
   "metadata": {},
   "outputs": [],
   "source": [
    "predictions = model.predict(X_test)\n",
    "predictions = [x == 'True' for x in predictions]\n",
    "print(\"Accuracy score:\", sklearn.metrics.accuracy_score(y_test, predictions))\n",
    "print(\"Recall score:\", sklearn.metrics.recall_score(y_test, predictions))\n",
    "print(\"Precusion score:\", sklearn.metrics.precision_score(y_test, predictions))"
   ]
  },
  {
   "cell_type": "code",
   "execution_count": null,
   "id": "574db436",
   "metadata": {},
   "outputs": [],
   "source": [
    "def plot_feature_importance(importance,names,model_type):\n",
    "    feature_importance = np.array(importance)\n",
    "    feature_names = np.array(names)\n",
    "    data={'feature_names':feature_names,'feature_importance':feature_importance}\n",
    "    fi_df = pd.DataFrame(data)\n",
    "    fi_df.sort_values(by=['feature_importance'], ascending=False,inplace=True)\n",
    "    plt.figure(figsize=(10,8))\n",
    "    sns.barplot(x=fi_df['feature_importance'], y=fi_df['feature_names'])\n",
    "    plt.title(model_type + 'FEATURE IMPORTANCE')\n",
    "    plt.xlabel('FEATURE IMPORTANCE')\n",
    "    plt.ylabel('FEATURE NAMES')\n",
    "\n",
    "plot_feature_importance(model.get_feature_importance(), X.columns,'CATBOOST')"
   ]
  },
  {
   "cell_type": "markdown",
   "id": "40d6edce",
   "metadata": {},
   "source": [
    "## Using SHAP"
   ]
  },
  {
   "cell_type": "code",
   "execution_count": null,
   "id": "5a3636e2",
   "metadata": {},
   "outputs": [],
   "source": [
    "import shap\n",
    "explainer = shap.TreeExplainer(model)\n",
    "start_index = 0\n",
    "end_index = 1000\n",
    "shap_values = explainer.shap_values(X_test[start_index:end_index])"
   ]
  },
  {
   "cell_type": "code",
   "execution_count": null,
   "id": "a0de97f8",
   "metadata": {},
   "outputs": [],
   "source": [
    "shap.initjs()"
   ]
  },
  {
   "cell_type": "code",
   "execution_count": null,
   "id": "fea0a60b",
   "metadata": {},
   "outputs": [],
   "source": [
    "id = 4\n",
    "shap.force_plot(explainer.expected_value,\n",
    "                shap_values[id:id+1],\n",
    "                X_test[id:id+1])"
   ]
  },
  {
   "cell_type": "code",
   "execution_count": null,
   "id": "e3c9fe5f",
   "metadata": {},
   "outputs": [],
   "source": [
    "shap.force_plot(explainer.expected_value,\n",
    "                shap_values,\n",
    "                X_test[start_index:end_index])"
   ]
  },
  {
   "cell_type": "code",
   "execution_count": null,
   "id": "5ef27001",
   "metadata": {
    "scrolled": true
   },
   "outputs": [],
   "source": [
    "shap.summary_plot(shap_values, X[start_index:end_index], plot_size=(20,20))"
   ]
  },
  {
   "cell_type": "code",
   "execution_count": null,
   "id": "ac072f07",
   "metadata": {
    "scrolled": false
   },
   "outputs": [],
   "source": [
    "shap.dependence_plot('programming_subject', shap_values, X_test[start_index:end_index], interaction_index='distance')"
   ]
  },
  {
   "cell_type": "code",
   "execution_count": null,
   "id": "e3c48555",
   "metadata": {
    "scrolled": false
   },
   "outputs": [],
   "source": [
    "shap.summary_plot(shap_values, X_test[start_index:end_index])"
   ]
  },
  {
   "cell_type": "markdown",
   "id": "236b4521",
   "metadata": {},
   "source": [
    "## Plot Student's House Coordinates"
   ]
  },
  {
   "cell_type": "code",
   "execution_count": null,
   "id": "b8132849",
   "metadata": {
    "scrolled": true
   },
   "outputs": [],
   "source": [
    "attr = ['aluno', 'cep', 'dropout', 'course']\n",
    "data_map = data_0.copy()[attr].drop_duplicates()\n",
    "data_map_course = pre_process.divide_course(data_map)\n",
    "\n",
    "utils.plot_coordinates(data_map, 'all courses')\n",
    "for course, data_course in data_map_course.items():\n",
    "    utils.plot_coordinates(data_course, course)"
   ]
  },
  {
   "cell_type": "code",
   "execution_count": null,
   "id": "7b41a4f6",
   "metadata": {},
   "outputs": [],
   "source": [
    "x = []\n",
    "y = []\n",
    "c = []\n",
    "coordinate_json = utils.read_json('../data/coordinate.json')\n",
    "attr = 'cep'\n",
    "\n",
    "for index, row in data_map.iterrows():\n",
    "    cep = str(row[attr])\n",
    "    info = coordinate_json[cep]\n",
    "    if info['lat'] < -17:\n",
    "        data_map.drop(index, inplace=True)\n",
    "        continue\n",
    "    x.append(info['lat'])\n",
    "    y.append(-info['lng'])\n",
    "    c.append('red' if row['dropout'] else 'blue')"
   ]
  },
  {
   "cell_type": "code",
   "execution_count": null,
   "id": "c76c9bbf",
   "metadata": {
    "scrolled": true
   },
   "outputs": [],
   "source": [
    "sns.displot(data_map, x=x, y=y, hue='dropout', height=6)"
   ]
  },
  {
   "cell_type": "code",
   "execution_count": null,
   "id": "28d3a9c9",
   "metadata": {},
   "outputs": [],
   "source": [
    "p = sns.jointplot(data=data_map,x=x, y=y,kind='kde')"
   ]
  },
  {
   "cell_type": "code",
   "execution_count": null,
   "id": "2b90bff7",
   "metadata": {},
   "outputs": [],
   "source": []
  },
  {
   "cell_type": "code",
   "execution_count": null,
   "id": "a32113bf",
   "metadata": {},
   "outputs": [],
   "source": [
    "sns.kdeplot(x=x,y=y,hue=c,\n",
    "            shade=True,\n",
    "            thresh=False\n",
    ")"
   ]
  },
  {
   "cell_type": "code",
   "execution_count": null,
   "id": "f4b52d06",
   "metadata": {},
   "outputs": [],
   "source": []
  }
 ],
 "metadata": {
  "kernelspec": {
   "display_name": "Python 3 (ipykernel)",
   "language": "python",
   "name": "python3"
  },
  "language_info": {
   "codemirror_mode": {
    "name": "ipython",
    "version": 3
   },
   "file_extension": ".py",
   "mimetype": "text/x-python",
   "name": "python",
   "nbconvert_exporter": "python",
   "pygments_lexer": "ipython3",
   "version": "3.8.10"
  }
 },
 "nbformat": 4,
 "nbformat_minor": 5
}
