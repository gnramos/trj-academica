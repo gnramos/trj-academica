{
 "cells": [
  {
   "cell_type": "markdown",
   "id": "expired-rotation",
   "metadata": {},
   "source": [
    "# Notebook - Análise da evasão\n",
    "\n",
    "Dados do Instituto de Ciências Exatas (IE)."
   ]
  },
  {
   "cell_type": "markdown",
   "id": "stone-snapshot",
   "metadata": {},
   "source": [
    "Importando bibliotecas:"
   ]
  },
  {
   "cell_type": "code",
   "execution_count": 1,
   "id": "informative-smith",
   "metadata": {},
   "outputs": [],
   "source": [
    "import pandas as pd\n",
    "import numpy as np\n",
    "import matplotlib.pyplot as plt\n",
    "import seaborn as sns\n",
    "\n",
    "import sklearn.metrics\n",
    "from sklearn.model_selection import train_test_split\n",
    "from catboost import CatBoostClassifier\n",
    "\n",
    "import pre_process\n",
    "import utils\n",
    "\n",
    "%matplotlib inline"
   ]
  },
  {
   "cell_type": "markdown",
   "id": "funded-airfare",
   "metadata": {},
   "source": [
    " ### Leitura dos dados"
   ]
  },
  {
   "cell_type": "code",
   "execution_count": 2,
   "id": "7d801291",
   "metadata": {},
   "outputs": [],
   "source": [
    "import pre_process\n",
    "\n",
    "DATA_FILE = '../data/ie_data.csv'\n",
    "data_0 = pd.read_csv(DATA_FILE, sep=';', low_memory=False)"
   ]
  },
  {
   "cell_type": "code",
   "execution_count": 7,
   "id": "3b173613",
   "metadata": {
    "scrolled": true
   },
   "outputs": [
    {
     "data": {
      "text/plain": [
       "Index(['public_school', 'approved_credits', 'dropout', 'course', 'female',\n",
       "       'quota', 'programming_subject', 'distance'],\n",
       "      dtype='object')"
      ]
     },
     "execution_count": 7,
     "metadata": {},
     "output_type": "execute_result"
    }
   ],
   "source": [
    "data_1.columns"
   ]
  },
  {
   "cell_type": "code",
   "execution_count": 8,
   "id": "09b5f9b9",
   "metadata": {
    "scrolled": true
   },
   "outputs": [
    {
     "data": {
      "text/html": [
       "<div>\n",
       "<style scoped>\n",
       "    .dataframe tbody tr th:only-of-type {\n",
       "        vertical-align: middle;\n",
       "    }\n",
       "\n",
       "    .dataframe tbody tr th {\n",
       "        vertical-align: top;\n",
       "    }\n",
       "\n",
       "    .dataframe thead th {\n",
       "        text-align: right;\n",
       "    }\n",
       "</style>\n",
       "<table border=\"1\" class=\"dataframe\">\n",
       "  <thead>\n",
       "    <tr style=\"text-align: right;\">\n",
       "      <th></th>\n",
       "      <th>public_school</th>\n",
       "      <th>approved_credits</th>\n",
       "      <th>dropout</th>\n",
       "      <th>course</th>\n",
       "      <th>female</th>\n",
       "      <th>quota</th>\n",
       "      <th>programming_subject</th>\n",
       "      <th>distance</th>\n",
       "    </tr>\n",
       "  </thead>\n",
       "  <tbody>\n",
       "    <tr>\n",
       "      <th>302</th>\n",
       "      <td>False</td>\n",
       "      <td>16.0</td>\n",
       "      <td>False</td>\n",
       "      <td>ciência da computação</td>\n",
       "      <td>False</td>\n",
       "      <td>False</td>\n",
       "      <td>0</td>\n",
       "      <td>5182</td>\n",
       "    </tr>\n",
       "    <tr>\n",
       "      <th>444</th>\n",
       "      <td>True</td>\n",
       "      <td>10.0</td>\n",
       "      <td>True</td>\n",
       "      <td>ciência da computação</td>\n",
       "      <td>True</td>\n",
       "      <td>True</td>\n",
       "      <td>0</td>\n",
       "      <td>22956</td>\n",
       "    </tr>\n",
       "    <tr>\n",
       "      <th>509</th>\n",
       "      <td>False</td>\n",
       "      <td>6.0</td>\n",
       "      <td>False</td>\n",
       "      <td>ciência da computação</td>\n",
       "      <td>False</td>\n",
       "      <td>False</td>\n",
       "      <td>0</td>\n",
       "      <td>8492</td>\n",
       "    </tr>\n",
       "    <tr>\n",
       "      <th>654</th>\n",
       "      <td>False</td>\n",
       "      <td>14.0</td>\n",
       "      <td>False</td>\n",
       "      <td>ciência da computação</td>\n",
       "      <td>False</td>\n",
       "      <td>False</td>\n",
       "      <td>0</td>\n",
       "      <td>17782</td>\n",
       "    </tr>\n",
       "    <tr>\n",
       "      <th>968</th>\n",
       "      <td>False</td>\n",
       "      <td>20.0</td>\n",
       "      <td>False</td>\n",
       "      <td>ciência da computação</td>\n",
       "      <td>False</td>\n",
       "      <td>False</td>\n",
       "      <td>0</td>\n",
       "      <td>4556</td>\n",
       "    </tr>\n",
       "  </tbody>\n",
       "</table>\n",
       "</div>"
      ],
      "text/plain": [
       "     public_school  approved_credits  dropout                 course  female  \\\n",
       "302          False              16.0    False  ciência da computação   False   \n",
       "444           True              10.0     True  ciência da computação    True   \n",
       "509          False               6.0    False  ciência da computação   False   \n",
       "654          False              14.0    False  ciência da computação   False   \n",
       "968          False              20.0    False  ciência da computação   False   \n",
       "\n",
       "     quota  programming_subject  distance  \n",
       "302  False                    0      5182  \n",
       "444   True                    0     22956  \n",
       "509  False                    0      8492  \n",
       "654  False                    0     17782  \n",
       "968  False                    0      4556  "
      ]
     },
     "execution_count": 8,
     "metadata": {},
     "output_type": "execute_result"
    }
   ],
   "source": [
    "data_1.head()"
   ]
  },
  {
   "cell_type": "markdown",
   "id": "4b72c712",
   "metadata": {},
   "source": [
    "## Pré-Processamento"
   ]
  },
  {
   "cell_type": "code",
   "execution_count": 3,
   "id": "bcfc95d6",
   "metadata": {},
   "outputs": [],
   "source": [
    "# Pre-Process\n",
    "columns = []\n",
    "data_0 = pre_process.format_data(data_0)\n",
    "data_0 = pre_process.public_school(data_0, columns)\n",
    "data_0 = pre_process.credits(data_0, columns)\n",
    "data_0 = pre_process.dropout(data_0, columns)\n",
    "data_0 = pre_process.course(data_0, columns)\n",
    "data_0 = pre_process.gender(data_0, columns)\n",
    "data_0 = pre_process.quota(data_0, columns)\n",
    "# data_0 = pre_process.ira(data_0, columns)\n",
    "data_0 = pre_process.programming_subjects(data_0, columns)\n",
    "data_0 = pre_process.cep(data_0, columns)"
   ]
  },
  {
   "cell_type": "code",
   "execution_count": 4,
   "id": "dfbe62cf",
   "metadata": {},
   "outputs": [],
   "source": [
    "data_1 = data_0.copy()[columns].drop_duplicates()"
   ]
  },
  {
   "cell_type": "code",
   "execution_count": 5,
   "id": "8c277c3d",
   "metadata": {},
   "outputs": [],
   "source": [
    "data_course = pre_process.divide_course(data_1)"
   ]
  },
  {
   "cell_type": "markdown",
   "id": "c88a2263",
   "metadata": {},
   "source": [
    "## Testes"
   ]
  },
  {
   "cell_type": "code",
   "execution_count": null,
   "id": "5467f1f7",
   "metadata": {},
   "outputs": [],
   "source": [
    "data_0['course'].unique()"
   ]
  },
  {
   "cell_type": "code",
   "execution_count": null,
   "id": "7185a074",
   "metadata": {},
   "outputs": [],
   "source": [
    "columns.append(['codigo_disciplina', 'creditos_disciplina', 'mencao_disciplina'])\n",
    "data_course = pre_process.divide_course(data_0)\n",
    "course = 'engenharia mecatrônica'"
   ]
  },
  {
   "cell_type": "markdown",
   "id": "becdb39d",
   "metadata": {},
   "source": [
    "## Processamento"
   ]
  },
  {
   "cell_type": "code",
   "execution_count": null,
   "id": "00b5edba",
   "metadata": {},
   "outputs": [],
   "source": [
    "attr = 'dropout'\n",
    "X = data1.drop(columns=[attr])\n",
    "y = data1[attr]\n",
    "X_train, X_test, y_train, y_test = train_test_split(\n",
    "    X, y, test_size=0.3, random_state=42, stratify=y\n",
    ")"
   ]
  },
  {
   "cell_type": "code",
   "execution_count": null,
   "id": "fe17838a",
   "metadata": {},
   "outputs": [],
   "source": [
    "model = CatBoostClassifier()\n",
    "# model.fit(X_train, y_train, cat_features=[2], plot=True)\n",
    "model.fit(X_train, y_train, cat_features=[1])"
   ]
  },
  {
   "cell_type": "code",
   "execution_count": null,
   "id": "0d299595",
   "metadata": {},
   "outputs": [],
   "source": [
    "predictions = model.predict(X_test)\n",
    "predictions = [x == 'True' for x in predictions]\n",
    "print(\"Accuracy score:\", sklearn.metrics.accuracy_score(y_test, predictions))\n",
    "print(\"Recall score:\", sklearn.metrics.recall_score(y_test, predictions))\n",
    "print(\"Precusion score:\", sklearn.metrics.precision_score(y_test, predictions))"
   ]
  },
  {
   "cell_type": "code",
   "execution_count": null,
   "id": "574db436",
   "metadata": {},
   "outputs": [],
   "source": [
    "def plot_feature_importance(importance,names,model_type):\n",
    "    feature_importance = np.array(importance)\n",
    "    feature_names = np.array(names)\n",
    "    data={'feature_names':feature_names,'feature_importance':feature_importance}\n",
    "    fi_df = pd.DataFrame(data)\n",
    "    fi_df.sort_values(by=['feature_importance'], ascending=False,inplace=True)\n",
    "    plt.figure(figsize=(10,8))\n",
    "    sns.barplot(x=fi_df['feature_importance'], y=fi_df['feature_names'])\n",
    "    plt.title(model_type + 'FEATURE IMPORTANCE')\n",
    "    plt.xlabel('FEATURE IMPORTANCE')\n",
    "    plt.ylabel('FEATURE NAMES')\n",
    "\n",
    "plot_feature_importance(model.get_feature_importance(), X.columns,'CATBOOST')"
   ]
  },
  {
   "cell_type": "markdown",
   "id": "40d6edce",
   "metadata": {},
   "source": [
    "## Using SHAP"
   ]
  },
  {
   "cell_type": "code",
   "execution_count": null,
   "id": "5a3636e2",
   "metadata": {},
   "outputs": [],
   "source": [
    "from multiprocessing import Pool\n",
    "\n",
    "import shap\n",
    "explainer = shap.TreeExplainer(model)\n",
    "start_index = 0\n",
    "end_index = 1000\n",
    "shap_values = explainer.shap_values(X_test[start_index:end_index])"
   ]
  },
  {
   "cell_type": "code",
   "execution_count": null,
   "id": "a0de97f8",
   "metadata": {},
   "outputs": [],
   "source": [
    "shap.initjs()"
   ]
  },
  {
   "cell_type": "code",
   "execution_count": null,
   "id": "fea0a60b",
   "metadata": {},
   "outputs": [],
   "source": [
    "id = 4\n",
    "shap.force_plot(explainer.expected_value,\n",
    "                shap_values[id:id+1],\n",
    "                X_test[id:id+1])"
   ]
  },
  {
   "cell_type": "code",
   "execution_count": null,
   "id": "e3c9fe5f",
   "metadata": {},
   "outputs": [],
   "source": [
    "shap.force_plot(explainer.expected_value,\n",
    "                shap_values,\n",
    "                X_test[start_index:end_index])"
   ]
  },
  {
   "cell_type": "code",
   "execution_count": null,
   "id": "5ef27001",
   "metadata": {
    "scrolled": true
   },
   "outputs": [],
   "source": [
    "shap.summary_plot(shap_values, X[start_index:end_index], plot_size=(20,20))"
   ]
  },
  {
   "cell_type": "code",
   "execution_count": null,
   "id": "ac072f07",
   "metadata": {
    "scrolled": true
   },
   "outputs": [],
   "source": [
    "shap.dependence_plot('programming_subject', shap_values, X_test[start_index:end_index], interaction_index='distance')"
   ]
  },
  {
   "cell_type": "code",
   "execution_count": null,
   "id": "e3c48555",
   "metadata": {},
   "outputs": [],
   "source": [
    "shap.summary_plot(shap_values, X_test[start_index:end_index])"
   ]
  },
  {
   "cell_type": "markdown",
   "id": "236b4521",
   "metadata": {},
   "source": [
    "## Plot Student's House Coordinates"
   ]
  },
  {
   "cell_type": "code",
   "execution_count": null,
   "id": "b8132849",
   "metadata": {
    "scrolled": false
   },
   "outputs": [],
   "source": [
    "attr = ['aluno', 'cep', 'dropout', 'course']\n",
    "data_map = data_0.copy()[attr].drop_duplicates()\n",
    "data_map_course = pre_process.divide_course(data_map)\n",
    "\n",
    "utils.plot_coordinates(data_map, 'all courses')\n",
    "for course, data_course in data_map_course.items():\n",
    "    utils.plot_coordinates(data_course, course)"
   ]
  },
  {
   "cell_type": "code",
   "execution_count": null,
   "id": "c76c9bbf",
   "metadata": {},
   "outputs": [],
   "source": [
    "sns.displot(data_map, x=x, y=y, hue='dropout', height=6)"
   ]
  },
  {
   "cell_type": "code",
   "execution_count": null,
   "id": "28d3a9c9",
   "metadata": {},
   "outputs": [],
   "source": [
    "p = sns.jointplot(data=data_map,x=x, y=y,kind='kde')"
   ]
  },
  {
   "cell_type": "code",
   "execution_count": null,
   "id": "2b90bff7",
   "metadata": {},
   "outputs": [],
   "source": []
  },
  {
   "cell_type": "code",
   "execution_count": null,
   "id": "a32113bf",
   "metadata": {},
   "outputs": [],
   "source": [
    "sns.kdeplot(x=x,y=y,hue=c,\n",
    "            shade=True,\n",
    "            thresh=False\n",
    ")"
   ]
  },
  {
   "cell_type": "code",
   "execution_count": null,
   "id": "f4b52d06",
   "metadata": {},
   "outputs": [],
   "source": []
  }
 ],
 "metadata": {
  "kernelspec": {
   "display_name": "Python 3 (ipykernel)",
   "language": "python",
   "name": "python3"
  },
  "language_info": {
   "codemirror_mode": {
    "name": "ipython",
    "version": 3
   },
   "file_extension": ".py",
   "mimetype": "text/x-python",
   "name": "python",
   "nbconvert_exporter": "python",
   "pygments_lexer": "ipython3",
   "version": "3.8.10"
  }
 },
 "nbformat": 4,
 "nbformat_minor": 5
}
