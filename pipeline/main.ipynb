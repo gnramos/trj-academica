{
 "cells": [
  {
   "cell_type": "markdown",
   "id": "expired-rotation",
   "metadata": {},
   "source": [
    "# Notebook - Análise da evasão\n",
    "\n",
    "Dados do Instituto de Ciências Exatas (IE)."
   ]
  },
  {
   "cell_type": "markdown",
   "id": "stone-snapshot",
   "metadata": {},
   "source": [
    "### Importando bibliotecas:"
   ]
  },
  {
   "cell_type": "code",
   "execution_count": 1,
   "id": "informative-smith",
   "metadata": {},
   "outputs": [],
   "source": [
    "import os\n",
    "import pandas as pd\n",
    "import numpy as np\n",
    "import matplotlib.pyplot as plt\n",
    "import seaborn as sns\n",
    "import shap\n",
    "\n",
    "from sklearn.model_selection import train_test_split\n",
    "from catboost import CatBoostClassifier, Pool, cv\n",
    "\n",
    "import utils\n",
    "import process\n",
    "import pre_process\n",
    "\n",
    "%matplotlib inline"
   ]
  },
  {
   "cell_type": "code",
   "execution_count": null,
   "id": "e2ef40cc",
   "metadata": {},
   "outputs": [],
   "source": [
    "# Reload module\n",
    "\n",
    "# import importlib\n",
    "# importlib.reload(process)"
   ]
  },
  {
   "cell_type": "markdown",
   "id": "funded-airfare",
   "metadata": {},
   "source": [
    " ### Leitura dos dados"
   ]
  },
  {
   "cell_type": "code",
   "execution_count": 2,
   "id": "7d801291",
   "metadata": {},
   "outputs": [],
   "source": [
    "DATA_FILE = '../data/ie_data.csv'\n",
    "# DATA_FILE = '../data/test_data.csv'\n",
    "data_pre = pd.read_csv(DATA_FILE, sep=';', low_memory=False)"
   ]
  },
  {
   "cell_type": "markdown",
   "id": "4b72c712",
   "metadata": {},
   "source": [
    "## Pré-Processamento"
   ]
  },
  {
   "cell_type": "code",
   "execution_count": 3,
   "id": "bcfc95d6",
   "metadata": {},
   "outputs": [],
   "source": [
    "attrs = []\n",
    "attrs_cat = []\n",
    "data_pre = pre_process.format_data(data_pre)\n",
    "\n",
    "data_pre = pre_process.dataframe_specific_adjustments(data_pre)\n",
    "data_pre = pre_process.erase_attr(data_pre)\n",
    "\n",
    "year_range = [1990, 2022]\n",
    "data_pre = pre_process.time_frame(data_pre, year_range)\n",
    "\n",
    "horizon = 1  # 1 year = 2 semesters\n",
    "data_pre = pre_process.beyond_horizon(data_pre, horizon)\n",
    "\n",
    "data_pre = pre_process.public_school(data_pre, attrs)\n",
    "data_pre = pre_process.dropout(data_pre, attrs)\n",
    "data_pre = pre_process.course(data_pre, attrs)\n",
    "data_pre = pre_process.gender(data_pre, attrs)\n",
    "data_pre = pre_process.entry(data_pre, attrs, attrs_cat)\n",
    "data_pre = pre_process.age(data_pre, attrs)\n",
    "\n",
    "data_pre = pre_process.cic_courses(data_pre)\n",
    "data_pre = pre_process.erase_internal_transfer_students(data_pre)\n",
    "\n",
    "data_pre = pre_process.quota(data_pre, attrs, attrs_cat)\n",
    "data_pre = pre_process.one_hot_encoding(data_pre, ['quota_type', 'entry'], attrs, attrs_cat)\n",
    "data_pre = data_pre.dropna()\n",
    "\n",
    "credits_dict = pre_process.subject_credits(data_pre)"
   ]
  },
  {
   "cell_type": "markdown",
   "id": "756dee0a",
   "metadata": {},
   "source": [
    "Divide dataframe by course:"
   ]
  },
  {
   "cell_type": "code",
   "execution_count": 4,
   "id": "db9998c4",
   "metadata": {},
   "outputs": [],
   "source": [
    "data_course, attrs_course, attrs_cat_course = pre_process.divide_course(\n",
    "    data_pre, attrs, attrs_cat\n",
    ")\n",
    "\n",
    "data_course['all'] = data_pre\n",
    "attrs_course['all'] = attrs.copy()\n",
    "attrs_cat_course['all'] = attrs_cat.copy()\n",
    "attrs_cat_course['all'].append('course')"
   ]
  },
  {
   "cell_type": "markdown",
   "id": "65f7207f",
   "metadata": {},
   "source": [
    "### Process Subjects and CEP\n",
    "\n",
    "The Subjects are processed for each course individually, and Cep needs to be processed before all other attributes and drop_duplicates, otherwise it takes too long to process."
   ]
  },
  {
   "cell_type": "code",
   "execution_count": 5,
   "id": "860161af",
   "metadata": {},
   "outputs": [
    {
     "name": "stdout",
     "output_type": "stream",
     "text": [
      "ciência_da_computação\n",
      "computação\n",
      "engenharia_de_computação\n",
      "engenharia_mecatrônica\n",
      "all\n"
     ]
    }
   ],
   "source": [
    "keys = data_course.keys()\n",
    "for course in keys:\n",
    "    print(course)\n",
    "    data = data_course[course].copy()\n",
    "    attrs = attrs_course[course]\n",
    "\n",
    "    # Process subjects\n",
    "    data = pre_process.add_semester_prefix(data)\n",
    "    data = pre_process.subjects(data, attrs, horizon, credits_dict)\n",
    "\n",
    "    data = pre_process.remove_anomalies(data)\n",
    "\n",
    "    # Process CEP\n",
    "    # It needs to be processed before drop_duplicates, or it takes too long to process.\n",
    "    data = data[attrs+['cep', 'aluno']].drop_duplicates()\n",
    "    data = pre_process.cep(data, attrs)\n",
    "\n",
    "    data_course[course] = data.copy()"
   ]
  },
  {
   "cell_type": "code",
   "execution_count": 6,
   "id": "639650b5",
   "metadata": {},
   "outputs": [],
   "source": [
    "data_process = data_course.copy()"
   ]
  },
  {
   "cell_type": "markdown",
   "id": "c5a7c21d",
   "metadata": {},
   "source": [
    "## Analysis"
   ]
  },
  {
   "cell_type": "markdown",
   "id": "edaf0af9",
   "metadata": {},
   "source": [
    "Cotas:"
   ]
  },
  {
   "cell_type": "code",
   "execution_count": null,
   "id": "7ec9b1fc",
   "metadata": {
    "scrolled": false
   },
   "outputs": [],
   "source": [
    "for course in data_course.keys():\n",
    "    print(f'{course} = {data_course[course].shape}')\n",
    "    print(f'quota \\n{data_course[course][\"quota\"].value_counts()}')\n",
    "    print('\\n')"
   ]
  },
  {
   "cell_type": "markdown",
   "id": "63d3e32e",
   "metadata": {},
   "source": [
    "Desbalanceamento da base:"
   ]
  },
  {
   "cell_type": "code",
   "execution_count": null,
   "id": "15a4e478",
   "metadata": {
    "scrolled": false
   },
   "outputs": [],
   "source": [
    "for course in data_course.keys():\n",
    "    print(f'{course}:')\n",
    "    freq = data_course[course]['dropout'].value_counts()\n",
    "    print(freq)\n",
    "    print('\\n')"
   ]
  },
  {
   "cell_type": "markdown",
   "id": "a63962ea",
   "metadata": {},
   "source": [
    "## Testes"
   ]
  },
  {
   "cell_type": "code",
   "execution_count": 7,
   "id": "ee1b5982",
   "metadata": {},
   "outputs": [],
   "source": [
    "data_test = data_course['all']"
   ]
  },
  {
   "cell_type": "markdown",
   "id": "becdb39d",
   "metadata": {},
   "source": [
    "## Processamento"
   ]
  },
  {
   "cell_type": "code",
   "execution_count": 8,
   "id": "00b5edba",
   "metadata": {},
   "outputs": [],
   "source": [
    "def catboost(data, attrs, attrs_cat, course):\n",
    "    output_attr = 'dropout'\n",
    "\n",
    "    X = data[attrs].drop(columns=[output_attr])\n",
    "    y = data[output_attr]\n",
    "    X_train, X_test, y_train, y_test = train_test_split(\n",
    "        X, y, test_size=0.3, random_state=42, stratify=y\n",
    "    )   \n",
    "\n",
    "    # dropout imbalance\n",
    "    output_freq = data[output_attr].value_counts()\n",
    "    scale = output_freq[0] / output_freq[1]  # negative / positive\n",
    "\n",
    "    model = CatBoostClassifier(scale_pos_weight=scale, depth=5, one_hot_max_size=4)\n",
    "    model.fit(\n",
    "        X_train, y_train,\n",
    "        cat_features=attrs_cat, plot=False, silent=True\n",
    "    )\n",
    "\n",
    "#     cv_dataset = Pool(\n",
    "#         data=X,\n",
    "#         label=y,\n",
    "#         cat_features=attrs_cat\n",
    "#     )\n",
    "\n",
    "#     params = {\n",
    "#         \"iterations\": 100,\n",
    "#         \"depth\": 2,\n",
    "#         \"loss_function\": \"Logloss\",\n",
    "#         \"verbose\": False,\n",
    "#         \"depth\": 5,\n",
    "#         \"scale_pos_weight\": scale\n",
    "#     }\n",
    "\n",
    "#     scores = cv(\n",
    "#         cv_dataset,\n",
    "#         params,\n",
    "#         fold_count=5, \n",
    "#         plot=\"True\",\n",
    "#         return_models=\"True\"\n",
    "#     )[4]\n",
    "    \n",
    "#     print(scores)\n",
    "\n",
    "\n",
    "    process.log_metrics(model, X_train, y_train, X_test, y_test, course)\n",
    "    # utils.precision_recall_graph(model, X_test, y_test)\n",
    "\n",
    "    # shap importance\n",
    "    shap_values = model.get_feature_importance(\n",
    "        Pool(X_test, label=y_test, cat_features=attrs_cat), \n",
    "        type=\"ShapValues\"\n",
    "    )\n",
    "    shap_values = shap_values[:,:-1]\n",
    "    shap.summary_plot(\n",
    "        shap_values, X_test, \n",
    "        # plot_type='bar', \n",
    "        plot_size=(15,15),\n",
    "        max_display=30,\n",
    "        show=False\n",
    "    )\n",
    "\n",
    "    # Log summary_plot\n",
    "    plt.savefig(f'results/summary_plot_{course}.png', dpi=200, bbox_inches='tight', facecolor='#ffffff')\n",
    "    with open('results/README.md', 'a+') as f:\n",
    "        f.write(f'![summary_plot_{course}](summary_plot_{course}.png)\\n')\n",
    "    plt.clf()\n",
    "\n",
    "    return model, X_test"
   ]
  },
  {
   "cell_type": "code",
   "execution_count": 9,
   "id": "2dbee2af",
   "metadata": {},
   "outputs": [],
   "source": [
    "# Clear the temporary results directory\n",
    "for f in os.listdir('results'):\n",
    "    os.remove(os.path.join('results', f))"
   ]
  },
  {
   "cell_type": "markdown",
   "id": "345aa013",
   "metadata": {},
   "source": [
    "Process all dataframes:"
   ]
  },
  {
   "cell_type": "code",
   "execution_count": 10,
   "id": "5d7645b8",
   "metadata": {
    "scrolled": false
   },
   "outputs": [
    {
     "name": "stdout",
     "output_type": "stream",
     "text": [
      "Curso = ciência_da_computação\n",
      "Curso = computação\n",
      "Curso = engenharia_de_computação\n",
      "Curso = engenharia_mecatrônica\n",
      "Curso = all\n"
     ]
    },
    {
     "data": {
      "text/plain": [
       "<Figure size 1080x1080 with 0 Axes>"
      ]
     },
     "metadata": {},
     "output_type": "display_data"
    }
   ],
   "source": [
    "for course, data in data_process.items():\n",
    "    print(f'Curso = {course}')\n",
    "    model, X_test = catboost(\n",
    "        data,\n",
    "        attrs_course[course],\n",
    "        attrs_cat_course[course],\n",
    "        course\n",
    "    )"
   ]
  },
  {
   "cell_type": "markdown",
   "id": "0b0fae73",
   "metadata": {},
   "source": [
    "Process a single dataframe:"
   ]
  },
  {
   "cell_type": "code",
   "execution_count": null,
   "id": "4e07ef7a",
   "metadata": {
    "scrolled": true
   },
   "outputs": [],
   "source": [
    "course = 'all'\n",
    "model, X_test = catboost(\n",
    "        data_process[course],\n",
    "        attrs_course[course],\n",
    "        attrs_cat_course[course],\n",
    "        course\n",
    "    )"
   ]
  },
  {
   "cell_type": "markdown",
   "id": "40d6edce",
   "metadata": {},
   "source": [
    "## Using SHAP"
   ]
  },
  {
   "cell_type": "code",
   "execution_count": null,
   "id": "5a3636e2",
   "metadata": {},
   "outputs": [],
   "source": [
    "explainer = shap.TreeExplainer(model)\n",
    "start_index = 0\n",
    "end_index = len(X_test)\n",
    "shap_values = explainer.shap_values(X_test[start_index:end_index])\n",
    "\n",
    "shap.initjs()"
   ]
  },
  {
   "cell_type": "code",
   "execution_count": null,
   "id": "fea0a60b",
   "metadata": {},
   "outputs": [],
   "source": [
    "id = 23\n",
    "shap.force_plot(explainer.expected_value,\n",
    "                shap_values[id:id+1],\n",
    "                X_test[id:id+1])"
   ]
  },
  {
   "cell_type": "code",
   "execution_count": null,
   "id": "e3c9fe5f",
   "metadata": {
    "scrolled": true
   },
   "outputs": [],
   "source": [
    "shap.force_plot(explainer.expected_value,\n",
    "                shap_values,\n",
    "                X_test[start_index:end_index])"
   ]
  },
  {
   "cell_type": "code",
   "execution_count": null,
   "id": "5ef27001",
   "metadata": {
    "scrolled": true
   },
   "outputs": [],
   "source": [
    "shap.summary_plot(shap_values, X_test[start_index:end_index], plot_size=(20,20), max_display=50)"
   ]
  },
  {
   "cell_type": "code",
   "execution_count": null,
   "id": "d8a8fe2e",
   "metadata": {},
   "outputs": [],
   "source": [
    "shap.summary_plot(shap_values, X_test, plot_type='bar', max_display=50)"
   ]
  },
  {
   "cell_type": "code",
   "execution_count": null,
   "id": "ac072f07",
   "metadata": {
    "scrolled": true
   },
   "outputs": [],
   "source": [
    "shap.dependence_plot('1_ira', shap_values, X_test[start_index:end_index], interaction_index='distance')"
   ]
  },
  {
   "cell_type": "markdown",
   "id": "236b4521",
   "metadata": {},
   "source": [
    "## Plot Student's House Coordinates"
   ]
  },
  {
   "cell_type": "code",
   "execution_count": null,
   "id": "b8132849",
   "metadata": {
    "scrolled": false
   },
   "outputs": [],
   "source": [
    "attr = ['aluno', 'cep', 'dropout']\n",
    "# keys = data_course.keys()\n",
    "keys = ['all']\n",
    "for course in keys:\n",
    "    print(course)\n",
    "    data = data_course[course].copy()[attr].drop_duplicates()\n",
    "    utils.plot_coordinates(data, course)\n",
    "#     utils.plot_coordinates_density(data, course)"
   ]
  },
  {
   "cell_type": "code",
   "execution_count": null,
   "id": "9670f3a5",
   "metadata": {},
   "outputs": [],
   "source": []
  }
 ],
 "metadata": {
  "kernelspec": {
   "display_name": "Python 3 (ipykernel)",
   "language": "python",
   "name": "python3"
  },
  "language_info": {
   "codemirror_mode": {
    "name": "ipython",
    "version": 3
   },
   "file_extension": ".py",
   "mimetype": "text/x-python",
   "name": "python",
   "nbconvert_exporter": "python",
   "pygments_lexer": "ipython3",
   "version": "3.8.10"
  }
 },
 "nbformat": 4,
 "nbformat_minor": 5
}
