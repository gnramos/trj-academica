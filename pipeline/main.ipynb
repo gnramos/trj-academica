{
 "cells": [
  {
   "cell_type": "markdown",
   "id": "expired-rotation",
   "metadata": {},
   "source": [
    "# Notebook - Análise da evasão\n",
    "\n",
    "Dados do Instituto de Ciências Exatas (IE)."
   ]
  },
  {
   "cell_type": "markdown",
   "id": "stone-snapshot",
   "metadata": {},
   "source": [
    "### Importando bibliotecas:"
   ]
  },
  {
   "cell_type": "code",
   "execution_count": 1,
   "id": "informative-smith",
   "metadata": {},
   "outputs": [],
   "source": [
    "import os\n",
    "import pandas as pd\n",
    "import numpy as np\n",
    "import matplotlib.pyplot as plt\n",
    "import seaborn as sns\n",
    "import shap\n",
    "\n",
    "from sklearn.model_selection import train_test_split\n",
    "from catboost import CatBoostClassifier, Pool, cv\n",
    "\n",
    "import utils\n",
    "import process\n",
    "import pre_process\n",
    "\n",
    "%matplotlib inline"
   ]
  },
  {
   "cell_type": "code",
   "execution_count": 2,
   "id": "e2ef40cc",
   "metadata": {},
   "outputs": [
    {
     "data": {
      "text/plain": [
       "<module 'process' from '/home/tiago/git/trj-academica/pipeline/process.py'>"
      ]
     },
     "execution_count": 2,
     "metadata": {},
     "output_type": "execute_result"
    }
   ],
   "source": [
    "# Reload module\n",
    "\n",
    "import importlib\n",
    "importlib.reload(process)"
   ]
  },
  {
   "cell_type": "markdown",
   "id": "funded-airfare",
   "metadata": {},
   "source": [
    " ### Leitura dos dados"
   ]
  },
  {
   "cell_type": "code",
   "execution_count": 3,
   "id": "7d801291",
   "metadata": {},
   "outputs": [],
   "source": [
    "# SIGRA_BEFORE_2004 = '../data/new/sigra_ate_2004.csv'\n",
    "# SIGRA = '../data/new/sigra_a_partir_de_2005.csv'\n",
    "# SIGAA     = '../data/new/sigaa.csv'\n",
    "\n",
    "# data_sigra_before_2004 = pd.read_csv(SIGRA_BEFORE_2004, sep=';', low_memory=False)\n",
    "# data_sigra = pd.read_csv(SIGRA, sep=';', low_memory=False)\n",
    "# data_sigaa = pd.read_csv(SIGAA, sep=';', low_memory=False)\n",
    "\n",
    "# data_sigra_before_2004 = pre_process.map_columns(data_sigra_before_2004)\n",
    "# data_sigra = pre_process.map_columns(data_sigra)\n",
    "# data_sigaa = pre_process.map_columns(data_sigaa)\n",
    "\n",
    "# data_pre = pd.concat([data_sigaa, data_sigra, data_sigra_before_2004])"
   ]
  },
  {
   "cell_type": "code",
   "execution_count": 4,
   "id": "6629f38b",
   "metadata": {},
   "outputs": [],
   "source": [
    "OLD = '../data/old/ie_data.csv'\n",
    "data_pre = pd.read_csv(OLD, sep=';', low_memory=False)"
   ]
  },
  {
   "cell_type": "markdown",
   "id": "4b72c712",
   "metadata": {},
   "source": [
    "## Pré-Processamento"
   ]
  },
  {
   "cell_type": "code",
   "execution_count": 5,
   "id": "bcfc95d6",
   "metadata": {},
   "outputs": [],
   "source": [
    "attrs = []\n",
    "attrs_cat = []\n",
    "data_pre = pre_process.format_data(data_pre)\n",
    "\n",
    "data_pre = pre_process.dataframe_specific_adjustments(data_pre)\n",
    "data_pre = pre_process.erase_attr(data_pre)\n",
    "data_pre = pre_process.remove_nan(data_pre)\n",
    "\n",
    "year_range = [2004, 2019]\n",
    "data_pre = pre_process.time_frame(data_pre, year_range)\n",
    "\n",
    "horizon = 1  # 1 year = 2 semesters\n",
    "data_pre = pre_process.beyond_horizon(data_pre, horizon)\n",
    "\n",
    "data_pre = pre_process.dropout(data_pre, attrs)\n",
    "data_pre = pre_process.dropout_before_horizon(data_pre, horizon)\n",
    "data_pre = pre_process.course(data_pre, attrs)\n",
    "data_pre = pre_process.public_school(data_pre, attrs)\n",
    "data_pre = pre_process.gender(data_pre, attrs)\n",
    "data_pre = pre_process.entry(data_pre, attrs, attrs_cat)\n",
    "data_pre = pre_process.age(data_pre, attrs)\n",
    "data_pre = pre_process.quota(data_pre, attrs, attrs_cat)\n",
    "\n",
    "data_pre = pre_process.cic_courses(data_pre)\n",
    "data_pre = pre_process.erase_internal_transfer_students(data_pre)\n",
    "\n",
    "# data_pre = pre_process.one_hot_encoding(data_pre, ['quota_type', 'entry'], attrs, attrs_cat)\n",
    "data_pre = data_pre.dropna()\n",
    "\n",
    "credits_dict = pre_process.subject_credits(data_pre)"
   ]
  },
  {
   "cell_type": "code",
   "execution_count": 6,
   "id": "51faf235",
   "metadata": {},
   "outputs": [],
   "source": [
    "\n",
    "horizon = 1  # 1 year = 2 semesters\n",
    "data_pre = pre_process.beyond_horizon(data_pre, horizon)"
   ]
  },
  {
   "cell_type": "markdown",
   "id": "756dee0a",
   "metadata": {},
   "source": [
    "Divide dataframe by course:"
   ]
  },
  {
   "cell_type": "code",
   "execution_count": 7,
   "id": "db9998c4",
   "metadata": {},
   "outputs": [],
   "source": [
    "data_course, attrs_course, attrs_cat_course = pre_process.divide_course(\n",
    "    data_pre, attrs, attrs_cat\n",
    ")\n",
    "\n",
    "data_course['all'] = data_pre.copy()\n",
    "attrs_course['all'] = attrs.copy()\n",
    "attrs_cat_course['all'] = attrs_cat.copy()\n",
    "attrs_cat_course['all'].append('course')"
   ]
  },
  {
   "cell_type": "markdown",
   "id": "65f7207f",
   "metadata": {},
   "source": [
    "### Process Subjects and CEP\n",
    "\n",
    "The Subjects are processed for each course individually, and Cep needs to be processed before all other attributes and drop_duplicates, otherwise it takes too long to process."
   ]
  },
  {
   "cell_type": "code",
   "execution_count": 8,
   "id": "860161af",
   "metadata": {},
   "outputs": [
    {
     "name": "stdout",
     "output_type": "stream",
     "text": [
      "ciência_da_computação\n",
      "computação\n",
      "engenharia_de_computação\n",
      "engenharia_mecatrônica\n",
      "all\n"
     ]
    }
   ],
   "source": [
    "keys = data_course.keys()\n",
    "for course in keys:\n",
    "    print(course)\n",
    "    data = data_course[course].copy()\n",
    "    attrs = attrs_course[course]\n",
    "\n",
    "    # Process subjects\n",
    "    data = pre_process.add_semester_prefix(data)\n",
    "    data = pre_process.subjects(data, attrs, horizon, credits_dict)\n",
    "\n",
    "    data = pre_process.remove_anomalies(data)\n",
    "\n",
    "    # Process CEP, it needs to be processed before drop_duplicates, or it takes too long to process.\n",
    "    data = data[attrs+['cep', 'aluno']].drop_duplicates()\n",
    "    data = pre_process.cep(data, attrs)\n",
    "\n",
    "    data_course[course] = data.copy()"
   ]
  },
  {
   "cell_type": "code",
   "execution_count": 9,
   "id": "639650b5",
   "metadata": {},
   "outputs": [],
   "source": [
    "data_process = data_course.copy()"
   ]
  },
  {
   "cell_type": "markdown",
   "id": "c5a7c21d",
   "metadata": {},
   "source": [
    "## Analysis"
   ]
  },
  {
   "cell_type": "markdown",
   "id": "edaf0af9",
   "metadata": {},
   "source": [
    "Cotas:"
   ]
  },
  {
   "cell_type": "code",
   "execution_count": 10,
   "id": "7ec9b1fc",
   "metadata": {
    "scrolled": false
   },
   "outputs": [],
   "source": [
    "# for course in data_course.keys():\n",
    "#     print(f'{course} = {data_course[course].shape}')\n",
    "#     print(f'quota \\n{data_course[course][\"quota\"].value_counts()}')\n",
    "#     print('\\n')"
   ]
  },
  {
   "cell_type": "markdown",
   "id": "63d3e32e",
   "metadata": {},
   "source": [
    "Desbalanceamento da base:"
   ]
  },
  {
   "cell_type": "code",
   "execution_count": 11,
   "id": "15a4e478",
   "metadata": {
    "scrolled": false
   },
   "outputs": [
    {
     "name": "stdout",
     "output_type": "stream",
     "text": [
      "ciência_da_computação:\n",
      "True     589\n",
      "False    339\n",
      "Name: dropout, dtype: int64\n",
      "\n",
      "\n",
      "computação:\n",
      "True     677\n",
      "False    218\n",
      "Name: dropout, dtype: int64\n",
      "\n",
      "\n",
      "engenharia_de_computação:\n",
      "True     345\n",
      "False    191\n",
      "Name: dropout, dtype: int64\n",
      "\n",
      "\n",
      "engenharia_mecatrônica:\n",
      "True     359\n",
      "False    324\n",
      "Name: dropout, dtype: int64\n",
      "\n",
      "\n",
      "all:\n",
      "True     1970\n",
      "False    1072\n",
      "Name: dropout, dtype: int64\n",
      "\n",
      "\n"
     ]
    }
   ],
   "source": [
    "for course in data_course.keys():\n",
    "    print(f'{course}:')\n",
    "    freq = data_course[course]['dropout'].value_counts()\n",
    "    print(freq)\n",
    "    print('\\n')"
   ]
  },
  {
   "cell_type": "code",
   "execution_count": 12,
   "id": "2437ee9b",
   "metadata": {},
   "outputs": [],
   "source": [
    "# import importlib\n",
    "# importlib.reload(utils)\n",
    "# utils.double_bar_graph(data_course['all'], 'age', 'dropout', size=(15, 20))\n",
    "# utils.double_bar_graph(data_course['all'], 'quota', 'dropout')\n",
    "# utils.double_bar_graph(data_course['all'], 'public_school', 'dropout')\n",
    "# utils.double_bar_graph(data_course['all'], 'entry', 'dropout')\n",
    "# utils.double_bar_graph(data_course['all'], '2_total_credits', 'dropout', ratio=False, size=(10, 13))\n",
    "# utils.double_bar_graph(data_course['all'], '1_algoritmos_e_programacao_de_computadores', 'dropout', size=(10, 13))"
   ]
  },
  {
   "cell_type": "code",
   "execution_count": 13,
   "id": "56392e30",
   "metadata": {},
   "outputs": [
    {
     "data": {
      "text/plain": [
       "Index(['dropout', 'course', 'public_school', 'female', 'entry', 'age', 'quota',\n",
       "       'quota_type', '1_relative_credits', '1_absolute_credits',\n",
       "       '2_relative_credits', '2_absolute_credits', '1_ira', '2_ira',\n",
       "       '1_algoritmos_e_programacao_de_computadores', '1_calculo_1',\n",
       "       '1_fisica_1', '1_fisica_1_experimental', '2_calculo_2',\n",
       "       '2_probabilidade_e_estatistica', '1_ingles_instrumental_1',\n",
       "       '2_algoritmos_e_programacao_de_computadores', '2_fisica_2',\n",
       "       '2_fisica_2_experimental', '2_estruturas_de_dados',\n",
       "       '2_introducao_a_algebra_linear', '1_organizacao_da_educacao_brasileira',\n",
       "       '2_calculo_1', '1_leitura_e_producao_de_textos',\n",
       "       '1_introducao_a_engenharia_mecatronica',\n",
       "       '1_introducao_a_microinformatica', '1_logica_computacional_1',\n",
       "       '1_quimica_geral_teorica', '2_fisica_1', '1_quimica_geral_experimental',\n",
       "       '1_portugues_instrumental_1', '1_introducao_a_engenharia_de_computacao',\n",
       "       '2_desenho_mecanico_assistido_por_computador_1',\n",
       "       '1_introducao_a_algebra_linear', '2_fisica_1_experimental',\n",
       "       '2_psicologia_da_educacao', '1_fundamentos_teoricos_da_computacao',\n",
       "       '2_logica_computacional_1', '2_informatica_e_sociedade', 'cep', 'aluno',\n",
       "       'distance'],\n",
       "      dtype='object', name='nome_disciplina')"
      ]
     },
     "execution_count": 13,
     "metadata": {},
     "output_type": "execute_result"
    }
   ],
   "source": [
    "data_course['all'].columns"
   ]
  },
  {
   "cell_type": "markdown",
   "id": "a63962ea",
   "metadata": {},
   "source": [
    "## Testes"
   ]
  },
  {
   "cell_type": "code",
   "execution_count": 14,
   "id": "42afdbce",
   "metadata": {},
   "outputs": [],
   "source": [
    "data_test = data_course['all']"
   ]
  },
  {
   "cell_type": "markdown",
   "id": "becdb39d",
   "metadata": {},
   "source": [
    "## Processamento"
   ]
  },
  {
   "cell_type": "code",
   "execution_count": 35,
   "id": "00b5edba",
   "metadata": {},
   "outputs": [],
   "source": [
    "def catboost(data, attrs, attrs_cat, course):\n",
    "    output_attr = 'dropout'\n",
    "\n",
    "    X = data[attrs].drop(columns=[output_attr])\n",
    "    y = data[output_attr]\n",
    "    X_train, X_test, y_train, y_test = train_test_split(\n",
    "        X, y, test_size=0.3, random_state=42, stratify=y\n",
    "    )   \n",
    "    train_data = Pool(data=X_train, label=y_train, cat_features=attrs_cat)\n",
    "\n",
    "    # dropout imbalance\n",
    "    output_freq = data[output_attr].value_counts()\n",
    "    scale = output_freq[0] / output_freq[1]  # negative / positive\n",
    "\n",
    "    model = CatBoostClassifier(scale_pos_weight=scale, logging_level='Silent')\n",
    "\n",
    "    # model.fit(\n",
    "    #     X=train_data, learning_rate=0.01\n",
    "    #     cat_features=attrs_cat, plot=False, silent=True\n",
    "    # )\n",
    "\n",
    "    grid = {\n",
    "        'learning_rate': [0.01],\n",
    "        'depth': [4, 6, 10],\n",
    "        'l2_leaf_reg': [1, 3, 5, 7]\n",
    "    }\n",
    "\n",
    "    gs = model.randomized_search(\n",
    "        grid,\n",
    "        X=train_data,\n",
    "        plot=False,\n",
    "        cv=5,\n",
    "        verbose=False,\n",
    "        n_iter=8,\n",
    "        shuffle=True,\n",
    "        stratified=True,\n",
    "    )\n",
    "\n",
    "    process.log_metrics(model, X_train, y_train, X_test, y_test, course)\n",
    "    process.log_params(gs['params'])\n",
    "    # utils.precision_recall_graph(model, X_test, y_test)\n",
    "\n",
    "    # shap importance\n",
    "    shap_values = model.get_feature_importance(\n",
    "        Pool(X_test, label=y_test, cat_features=attrs_cat), \n",
    "        type=\"ShapValues\"\n",
    "    )\n",
    "    shap_values = shap_values[:,:-1]\n",
    "    shap.summary_plot(\n",
    "        shap_values, X_test, \n",
    "        # plot_type='bar', \n",
    "        plot_size=(15,15),\n",
    "        max_display=30,\n",
    "        show=False\n",
    "    )\n",
    "\n",
    "    # Log summary_plot\n",
    "    plt.savefig(f'results/summary_plot_{course}.png', dpi=200, bbox_inches='tight', facecolor='#ffffff')\n",
    "    with open('results/README.md', 'a+') as f:\n",
    "        f.write(f'![summary_plot_{course}](summary_plot_{course}.png)\\n')\n",
    "    plt.clf()\n",
    "\n",
    "    shap.summary_plot(\n",
    "        shap_values, X_test, \n",
    "        plot_type='bar', \n",
    "        plot_size=(15,15),\n",
    "        max_display=30,\n",
    "        show=False\n",
    "    )\n",
    "    plt.savefig(f'results/bar_plot_{course}.png', dpi=200, bbox_inches='tight', facecolor='#ffffff')\n",
    "    plt.clf()\n",
    "\n",
    "    return model, X_test"
   ]
  },
  {
   "cell_type": "code",
   "execution_count": 36,
   "id": "2dbee2af",
   "metadata": {},
   "outputs": [],
   "source": [
    "# Clear the temporary results directory\n",
    "for f in os.listdir('results'):\n",
    "    os.remove(os.path.join('results', f))"
   ]
  },
  {
   "cell_type": "markdown",
   "id": "345aa013",
   "metadata": {},
   "source": [
    "Process all dataframes:"
   ]
  },
  {
   "cell_type": "code",
   "execution_count": 37,
   "id": "5d7645b8",
   "metadata": {
    "scrolled": false
   },
   "outputs": [
    {
     "name": "stdout",
     "output_type": "stream",
     "text": [
      "Curso = ciência_da_computação\n",
      "Curso = computação\n",
      "Curso = engenharia_de_computação\n",
      "Curso = engenharia_mecatrônica\n",
      "Curso = all\n"
     ]
    },
    {
     "data": {
      "text/plain": [
       "<Figure size 1080x1080 with 0 Axes>"
      ]
     },
     "metadata": {},
     "output_type": "display_data"
    }
   ],
   "source": [
    "for course, data in data_process.items():\n",
    "    print(f'Curso = {course}')\n",
    "    model, X_test = catboost(\n",
    "        data,\n",
    "        attrs_course[course],\n",
    "        attrs_cat_course[course],\n",
    "        course\n",
    "    )"
   ]
  },
  {
   "cell_type": "markdown",
   "id": "0b0fae73",
   "metadata": {},
   "source": [
    "Process a single dataframe:"
   ]
  },
  {
   "cell_type": "code",
   "execution_count": 34,
   "id": "4e07ef7a",
   "metadata": {
    "scrolled": true
   },
   "outputs": [
    {
     "data": {
      "text/plain": [
       "<Figure size 1080x1080 with 0 Axes>"
      ]
     },
     "metadata": {},
     "output_type": "display_data"
    }
   ],
   "source": [
    "course = 'all'\n",
    "model, X_test = catboost(\n",
    "        data_process[course],\n",
    "        attrs_course[course],\n",
    "        attrs_cat_course[course],\n",
    "        course\n",
    "    )"
   ]
  },
  {
   "cell_type": "markdown",
   "id": "40d6edce",
   "metadata": {},
   "source": [
    "## Using SHAP"
   ]
  },
  {
   "cell_type": "code",
   "execution_count": 19,
   "id": "5a3636e2",
   "metadata": {},
   "outputs": [],
   "source": [
    "# explainer = shap.TreeExplainer(model)\n",
    "# start_index = 0\n",
    "# end_index = len(X_test)\n",
    "# shap_values = explainer.shap_values(X_test[start_index:end_index])\n",
    "\n",
    "# shap.initjs()"
   ]
  },
  {
   "cell_type": "code",
   "execution_count": 20,
   "id": "fea0a60b",
   "metadata": {},
   "outputs": [],
   "source": [
    "# id = 15\n",
    "# shap.force_plot(explainer.expected_value,\n",
    "#                 shap_values[id:id+1],\n",
    "#                 X_test[id:id+1],\n",
    "#                 matplotlib = True,\n",
    "#                 show = False)\n",
    "\n",
    "# plt.savefig(f'results/explainer{id}.png', dpi=200, bbox_inches='tight', facecolor='#ffffff')"
   ]
  },
  {
   "cell_type": "code",
   "execution_count": 21,
   "id": "e3c9fe5f",
   "metadata": {
    "scrolled": true
   },
   "outputs": [],
   "source": [
    "# shap.force_plot(explainer.expected_value,\n",
    "#                 shap_values,\n",
    "#                 X_test[start_index:end_index])"
   ]
  },
  {
   "cell_type": "code",
   "execution_count": 22,
   "id": "5ef27001",
   "metadata": {
    "scrolled": true
   },
   "outputs": [],
   "source": [
    "# shap.summary_plot(shap_values, X_test[start_index:end_index], plot_size=(20,20), max_display=50)"
   ]
  },
  {
   "cell_type": "code",
   "execution_count": 23,
   "id": "d8a8fe2e",
   "metadata": {},
   "outputs": [],
   "source": [
    "# shap.summary_plot(shap_values, X_test, plot_type='bar', max_display=50)"
   ]
  },
  {
   "cell_type": "code",
   "execution_count": null,
   "id": "ac072f07",
   "metadata": {
    "scrolled": true
   },
   "outputs": [],
   "source": []
  },
  {
   "cell_type": "markdown",
   "id": "236b4521",
   "metadata": {},
   "source": [
    "## Plot Student's House Coordinates"
   ]
  },
  {
   "cell_type": "code",
   "execution_count": 24,
   "id": "b8132849",
   "metadata": {
    "scrolled": false
   },
   "outputs": [],
   "source": [
    "# attr = ['aluno', 'cep', 'dropout']\n",
    "# # keys = data_course.keys()\n",
    "# keys = ['all']\n",
    "# for course in keys:\n",
    "#     print(course)\n",
    "#     data = data_course[course].copy()[attr].drop_duplicates()\n",
    "#     utils.plot_coordinates(data, course)\n",
    "# #     utils.plot_coordinates_density(data, course)"
   ]
  },
  {
   "cell_type": "code",
   "execution_count": null,
   "id": "9670f3a5",
   "metadata": {},
   "outputs": [],
   "source": []
  }
 ],
 "metadata": {
  "kernelspec": {
   "display_name": "Python 3.8.10 64-bit",
   "language": "python",
   "name": "python3"
  },
  "language_info": {
   "codemirror_mode": {
    "name": "ipython",
    "version": 3
   },
   "file_extension": ".py",
   "mimetype": "text/x-python",
   "name": "python",
   "nbconvert_exporter": "python",
   "pygments_lexer": "ipython3",
   "version": "3.8.10"
  },
  "vscode": {
   "interpreter": {
    "hash": "916dbcbb3f70747c44a77c7bcd40155683ae19c65e1c03b4aa3499c5328201f1"
   }
  }
 },
 "nbformat": 4,
 "nbformat_minor": 5
}
