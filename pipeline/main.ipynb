{
 "cells": [
  {
   "cell_type": "markdown",
   "id": "expired-rotation",
   "metadata": {},
   "source": [
    "# Notebook - Análise da evasão\n",
    "\n",
    "Dados do Instituto de Ciências Exatas (IE)."
   ]
  },
  {
   "cell_type": "markdown",
   "id": "stone-snapshot",
   "metadata": {},
   "source": [
    "### Importando bibliotecas:"
   ]
  },
  {
   "cell_type": "code",
   "execution_count": 1,
   "id": "informative-smith",
   "metadata": {},
   "outputs": [],
   "source": [
    "import os\n",
    "import pandas as pd\n",
    "import numpy as np\n",
    "import matplotlib.pyplot as plt\n",
    "import seaborn as sns\n",
    "import shap\n",
    "\n",
    "from sklearn.model_selection import train_test_split\n",
    "from catboost import CatBoostClassifier, Pool, cv\n",
    "\n",
    "import utils\n",
    "import process\n",
    "import pre_process\n",
    "\n",
    "%matplotlib inline"
   ]
  },
  {
   "cell_type": "code",
   "execution_count": 2,
   "id": "e2ef40cc",
   "metadata": {},
   "outputs": [],
   "source": [
    "# Reload module\n",
    "\n",
    "# import importlib\n",
    "# importlib.reload(utils)"
   ]
  },
  {
   "cell_type": "markdown",
   "id": "funded-airfare",
   "metadata": {},
   "source": [
    " ### Leitura dos dados"
   ]
  },
  {
   "cell_type": "code",
   "execution_count": 3,
   "id": "7d801291",
   "metadata": {},
   "outputs": [],
   "source": [
    "# DATA_FILE = '../data/ie_data.csv'\n",
    "DATA_FILE = '../data/test_data.csv'\n",
    "data_pre = pd.read_csv(DATA_FILE, sep=';', low_memory=False)"
   ]
  },
  {
   "cell_type": "markdown",
   "id": "4b72c712",
   "metadata": {},
   "source": [
    "## Pré-Processamento"
   ]
  },
  {
   "cell_type": "code",
   "execution_count": 4,
   "id": "bcfc95d6",
   "metadata": {},
   "outputs": [],
   "source": [
    "attrs = []\n",
    "attrs_cat = []\n",
    "data_pre = pre_process.format_data(data_pre)\n",
    "\n",
    "data_pre = pre_process.dataframe_specific_adjustments(data_pre)\n",
    "data_pre = pre_process.erase_attr(data_pre)\n",
    "data_pre = pre_process.remove_nan(data_pre)\n",
    "\n",
    "year_range = [1990, 2019]\n",
    "data_pre = pre_process.time_frame(data_pre, year_range)\n",
    "\n",
    "horizon = 1  # 1 year = 2 semesters\n",
    "data_pre = pre_process.beyond_horizon(data_pre, horizon)\n",
    "\n",
    "data_pre = pre_process.dropout(data_pre, attrs)\n",
    "data_pre = pre_process.dropout_before_horizon(data_pre, horizon)\n",
    "data_pre = pre_process.course(data_pre, attrs)\n",
    "data_pre = pre_process.public_school(data_pre, attrs)\n",
    "data_pre = pre_process.gender(data_pre, attrs)\n",
    "data_pre = pre_process.entry(data_pre, attrs, attrs_cat)\n",
    "data_pre = pre_process.age(data_pre, attrs)\n",
    "data_pre = pre_process.quota(data_pre, attrs, attrs_cat)\n",
    "\n",
    "data_pre = pre_process.cic_courses(data_pre)\n",
    "data_pre = pre_process.erase_internal_transfer_students(data_pre)\n",
    "\n",
    "# data_pre = pre_process.one_hot_encoding(data_pre, ['quota_type', 'entry'], attrs, attrs_cat)\n",
    "data_pre = data_pre.dropna()\n",
    "\n",
    "credits_dict = pre_process.subject_credits(data_pre)"
   ]
  },
  {
   "cell_type": "markdown",
   "id": "756dee0a",
   "metadata": {},
   "source": [
    "Divide dataframe by course:"
   ]
  },
  {
   "cell_type": "code",
   "execution_count": 5,
   "id": "db9998c4",
   "metadata": {},
   "outputs": [],
   "source": [
    "data_course, attrs_course, attrs_cat_course = pre_process.divide_course(\n",
    "    data_pre, attrs, attrs_cat\n",
    ")\n",
    "\n",
    "data_course['all'] = data_pre.copy()\n",
    "attrs_course['all'] = attrs.copy()\n",
    "attrs_cat_course['all'] = attrs_cat.copy()\n",
    "attrs_cat_course['all'].append('course')"
   ]
  },
  {
   "cell_type": "markdown",
   "id": "65f7207f",
   "metadata": {},
   "source": [
    "### Process Subjects and CEP\n",
    "\n",
    "The Subjects are processed for each course individually, and Cep needs to be processed before all other attributes and drop_duplicates, otherwise it takes too long to process."
   ]
  },
  {
   "cell_type": "code",
   "execution_count": 6,
   "id": "860161af",
   "metadata": {},
   "outputs": [
    {
     "name": "stdout",
     "output_type": "stream",
     "text": [
      "engenharia_mecatrônica\n",
      "all\n"
     ]
    }
   ],
   "source": [
    "keys = data_course.keys()\n",
    "for course in keys:\n",
    "    print(course)\n",
    "    data = data_course[course].copy()\n",
    "    attrs = attrs_course[course]\n",
    "\n",
    "    # Process subjects\n",
    "    data = pre_process.add_semester_prefix(data)\n",
    "    data = pre_process.subjects(data, attrs, horizon, credits_dict)\n",
    "\n",
    "    data = pre_process.remove_anomalies(data)\n",
    "\n",
    "    # Process CEP, it needs to be processed before drop_duplicates, or it takes too long to process.\n",
    "    # data = data[attrs+['cep', 'aluno']].drop_duplicates()\n",
    "    # data = pre_process.cep(data, attrs)\n",
    "\n",
    "    data_course[course] = data.copy()"
   ]
  },
  {
   "cell_type": "code",
   "execution_count": 7,
   "id": "639650b5",
   "metadata": {},
   "outputs": [],
   "source": [
    "data_process = data_course.copy()"
   ]
  },
  {
   "cell_type": "markdown",
   "id": "c5a7c21d",
   "metadata": {},
   "source": [
    "## Analysis"
   ]
  },
  {
   "cell_type": "markdown",
   "id": "edaf0af9",
   "metadata": {},
   "source": [
    "Cotas:"
   ]
  },
  {
   "cell_type": "code",
   "execution_count": 8,
   "id": "7ec9b1fc",
   "metadata": {
    "scrolled": false
   },
   "outputs": [],
   "source": [
    "# for course in data_course.keys():\n",
    "#     print(f'{course} = {data_course[course].shape}')\n",
    "#     print(f'quota \\n{data_course[course][\"quota\"].value_counts()}')\n",
    "#     print('\\n')"
   ]
  },
  {
   "cell_type": "markdown",
   "id": "63d3e32e",
   "metadata": {},
   "source": [
    "Desbalanceamento da base:"
   ]
  },
  {
   "cell_type": "code",
   "execution_count": 9,
   "id": "15a4e478",
   "metadata": {
    "scrolled": false
   },
   "outputs": [
    {
     "name": "stdout",
     "output_type": "stream",
     "text": [
      "engenharia_mecatrônica:\n",
      "True     1\n",
      "False    1\n",
      "Name: dropout, dtype: int64\n",
      "\n",
      "\n",
      "all:\n",
      "True     1\n",
      "False    1\n",
      "Name: dropout, dtype: int64\n",
      "\n",
      "\n"
     ]
    }
   ],
   "source": [
    "for course in data_course.keys():\n",
    "    print(f'{course}:')\n",
    "    freq = data_course[course]['dropout'].value_counts()\n",
    "    print(freq)\n",
    "    print('\\n')"
   ]
  },
  {
   "cell_type": "code",
   "execution_count": 10,
   "id": "2437ee9b",
   "metadata": {},
   "outputs": [],
   "source": [
    "# utils.double_bar_graph(data_course['all'], 'age', 'dropout')"
   ]
  },
  {
   "cell_type": "code",
   "execution_count": 11,
   "id": "56392e30",
   "metadata": {},
   "outputs": [
    {
     "data": {
      "text/plain": [
       "Index(['age', 'aluno', 'cep', 'course', 'dropout', 'entry', 'female',\n",
       "       'periodo_ingresso_curso', 'periodo_ingresso_unb', 'periodo_saida_curso',\n",
       "       'public_school', 'quota', 'quota_type',\n",
       "       '1_algoritmos_e_programacao_de_computadores', '1_calculo_1',\n",
       "       '1_fisica_1', '1_fisica_1_experimental', '1_geometria_descritiva',\n",
       "       '1_introducao_a_engenharia_mecatronica', '1_quimica_geral_experimental',\n",
       "       '1_quimica_geral_teorica', '2_calculo_2',\n",
       "       '2_desenho_mecanico_assistido_por_computador_1', '2_desenho_tecnico',\n",
       "       '2_estruturas_de_dados', '2_fisica_2', '2_fisica_2_experimental',\n",
       "       '2_ingles_instrumental_1', '2_ingles_instrumental_2',\n",
       "       '2_introducao_a_algebra_linear', '2_probabilidade_e_estatistica',\n",
       "       '1_relative_credits', '1_absolute_credits', '1_total_credits',\n",
       "       '2_relative_credits', '2_absolute_credits', '2_total_credits', '1_ira',\n",
       "       '1_total', '2_ira', '2_total'],\n",
       "      dtype='object', name='nome_disciplina')"
      ]
     },
     "execution_count": 11,
     "metadata": {},
     "output_type": "execute_result"
    }
   ],
   "source": [
    "data_course['all'].columns"
   ]
  },
  {
   "cell_type": "markdown",
   "id": "a63962ea",
   "metadata": {},
   "source": [
    "## Testes"
   ]
  },
  {
   "cell_type": "code",
   "execution_count": 12,
   "id": "42afdbce",
   "metadata": {},
   "outputs": [],
   "source": [
    "data_test = data_course['all']"
   ]
  },
  {
   "cell_type": "markdown",
   "id": "becdb39d",
   "metadata": {},
   "source": [
    "## Processamento"
   ]
  },
  {
   "cell_type": "code",
   "execution_count": 13,
   "id": "00b5edba",
   "metadata": {},
   "outputs": [],
   "source": [
    "def catboost(data, attrs, attrs_cat, course):\n",
    "    output_attr = 'dropout'\n",
    "\n",
    "    X = data[attrs].drop(columns=[output_attr])\n",
    "    y = data[output_attr]\n",
    "    X_train, X_test, y_train, y_test = train_test_split(\n",
    "        X, y, test_size=0.3, random_state=42, stratify=y\n",
    "    )   \n",
    "\n",
    "    # dropout imbalance\n",
    "    output_freq = data[output_attr].value_counts()\n",
    "    scale = output_freq[0] / output_freq[1]  # negative / positive\n",
    "\n",
    "    model = CatBoostClassifier(scale_pos_weight=scale, depth=5, one_hot_max_size=4)\n",
    "    model.fit(\n",
    "        X_train, y_train,\n",
    "        cat_features=attrs_cat, plot=False, silent=True\n",
    "    )\n",
    "\n",
    "#     cv_dataset = Pool(\n",
    "#         data=X,\n",
    "#         label=y,\n",
    "#         cat_features=attrs_cat\n",
    "#     )\n",
    "\n",
    "#     params = {\n",
    "#         \"iterations\": 100,\n",
    "#         \"depth\": 2,\n",
    "#         \"loss_function\": \"Logloss\",\n",
    "#         \"verbose\": False,\n",
    "#         \"depth\": 5,\n",
    "#         \"scale_pos_weight\": scale\n",
    "#     }\n",
    "\n",
    "#     scores = cv(\n",
    "#         cv_dataset,\n",
    "#         params,\n",
    "#         fold_count=5, \n",
    "#         plot=\"True\",\n",
    "#         return_models=\"True\"\n",
    "#     )[4]\n",
    "    \n",
    "#     print(scores)\n",
    "\n",
    "\n",
    "    process.log_metrics(model, X_train, y_train, X_test, y_test, course)\n",
    "    # utils.precision_recall_graph(model, X_test, y_test)\n",
    "\n",
    "    # shap importance\n",
    "    shap_values = model.get_feature_importance(\n",
    "        Pool(X_test, label=y_test, cat_features=attrs_cat), \n",
    "        type=\"ShapValues\"\n",
    "    )\n",
    "    shap_values = shap_values[:,:-1]\n",
    "    shap.summary_plot(\n",
    "        shap_values, X_test, \n",
    "        # plot_type='bar', \n",
    "        plot_size=(15,15),\n",
    "        max_display=30,\n",
    "        show=False\n",
    "    )\n",
    "\n",
    "    # Log summary_plot\n",
    "    plt.savefig(f'results/summary_plot_{course}.png', dpi=200, bbox_inches='tight', facecolor='#ffffff')\n",
    "    with open('results/README.md', 'a+') as f:\n",
    "        f.write(f'![summary_plot_{course}](summary_plot_{course}.png)\\n')\n",
    "    plt.clf()\n",
    "\n",
    "    return model, X_test"
   ]
  },
  {
   "cell_type": "code",
   "execution_count": 14,
   "id": "2dbee2af",
   "metadata": {},
   "outputs": [],
   "source": [
    "# Clear the temporary results directory\n",
    "for f in os.listdir('results'):\n",
    "    os.remove(os.path.join('results', f))"
   ]
  },
  {
   "cell_type": "markdown",
   "id": "345aa013",
   "metadata": {},
   "source": [
    "Process all dataframes:"
   ]
  },
  {
   "cell_type": "code",
   "execution_count": 15,
   "id": "5d7645b8",
   "metadata": {
    "scrolled": false
   },
   "outputs": [
    {
     "name": "stdout",
     "output_type": "stream",
     "text": [
      "Curso = engenharia_mecatrônica\n"
     ]
    },
    {
     "ename": "ValueError",
     "evalue": "The least populated class in y has only 1 member, which is too few. The minimum number of groups for any class cannot be less than 2.",
     "output_type": "error",
     "traceback": [
      "\u001b[0;31m---------------------------------------------------------------------------\u001b[0m",
      "\u001b[0;31mValueError\u001b[0m                                Traceback (most recent call last)",
      "\u001b[1;32m/home/tiago/git/trj-academica/pipeline/main.ipynb Cell 27'\u001b[0m in \u001b[0;36m<module>\u001b[0;34m\u001b[0m\n\u001b[1;32m      <a href='vscode-notebook-cell:/home/tiago/git/trj-academica/pipeline/main.ipynb#ch0000026?line=0'>1</a>\u001b[0m \u001b[39mfor\u001b[39;00m course, data \u001b[39min\u001b[39;00m data_process\u001b[39m.\u001b[39mitems():\n\u001b[1;32m      <a href='vscode-notebook-cell:/home/tiago/git/trj-academica/pipeline/main.ipynb#ch0000026?line=1'>2</a>\u001b[0m     \u001b[39mprint\u001b[39m(\u001b[39mf\u001b[39m\u001b[39m'\u001b[39m\u001b[39mCurso = \u001b[39m\u001b[39m{\u001b[39;00mcourse\u001b[39m}\u001b[39;00m\u001b[39m'\u001b[39m)\n\u001b[0;32m----> <a href='vscode-notebook-cell:/home/tiago/git/trj-academica/pipeline/main.ipynb#ch0000026?line=2'>3</a>\u001b[0m     model, X_test \u001b[39m=\u001b[39m catboost(\n\u001b[1;32m      <a href='vscode-notebook-cell:/home/tiago/git/trj-academica/pipeline/main.ipynb#ch0000026?line=3'>4</a>\u001b[0m         data,\n\u001b[1;32m      <a href='vscode-notebook-cell:/home/tiago/git/trj-academica/pipeline/main.ipynb#ch0000026?line=4'>5</a>\u001b[0m         attrs_course[course],\n\u001b[1;32m      <a href='vscode-notebook-cell:/home/tiago/git/trj-academica/pipeline/main.ipynb#ch0000026?line=5'>6</a>\u001b[0m         attrs_cat_course[course],\n\u001b[1;32m      <a href='vscode-notebook-cell:/home/tiago/git/trj-academica/pipeline/main.ipynb#ch0000026?line=6'>7</a>\u001b[0m         course\n\u001b[1;32m      <a href='vscode-notebook-cell:/home/tiago/git/trj-academica/pipeline/main.ipynb#ch0000026?line=7'>8</a>\u001b[0m     )\n",
      "\u001b[1;32m/home/tiago/git/trj-academica/pipeline/main.ipynb Cell 24'\u001b[0m in \u001b[0;36mcatboost\u001b[0;34m(data, attrs, attrs_cat, course)\u001b[0m\n\u001b[1;32m      <a href='vscode-notebook-cell:/home/tiago/git/trj-academica/pipeline/main.ipynb#ch0000023?line=3'>4</a>\u001b[0m X \u001b[39m=\u001b[39m data[attrs]\u001b[39m.\u001b[39mdrop(columns\u001b[39m=\u001b[39m[output_attr])\n\u001b[1;32m      <a href='vscode-notebook-cell:/home/tiago/git/trj-academica/pipeline/main.ipynb#ch0000023?line=4'>5</a>\u001b[0m y \u001b[39m=\u001b[39m data[output_attr]\n\u001b[0;32m----> <a href='vscode-notebook-cell:/home/tiago/git/trj-academica/pipeline/main.ipynb#ch0000023?line=5'>6</a>\u001b[0m X_train, X_test, y_train, y_test \u001b[39m=\u001b[39m train_test_split(\n\u001b[1;32m      <a href='vscode-notebook-cell:/home/tiago/git/trj-academica/pipeline/main.ipynb#ch0000023?line=6'>7</a>\u001b[0m     X, y, test_size\u001b[39m=\u001b[39;49m\u001b[39m0.3\u001b[39;49m, random_state\u001b[39m=\u001b[39;49m\u001b[39m42\u001b[39;49m, stratify\u001b[39m=\u001b[39;49my\n\u001b[1;32m      <a href='vscode-notebook-cell:/home/tiago/git/trj-academica/pipeline/main.ipynb#ch0000023?line=7'>8</a>\u001b[0m )   \n\u001b[1;32m     <a href='vscode-notebook-cell:/home/tiago/git/trj-academica/pipeline/main.ipynb#ch0000023?line=9'>10</a>\u001b[0m \u001b[39m# dropout imbalance\u001b[39;00m\n\u001b[1;32m     <a href='vscode-notebook-cell:/home/tiago/git/trj-academica/pipeline/main.ipynb#ch0000023?line=10'>11</a>\u001b[0m output_freq \u001b[39m=\u001b[39m data[output_attr]\u001b[39m.\u001b[39mvalue_counts()\n",
      "File \u001b[0;32m/usr/local/lib/python3.8/dist-packages/sklearn/model_selection/_split.py:2197\u001b[0m, in \u001b[0;36mtrain_test_split\u001b[0;34m(test_size, train_size, random_state, shuffle, stratify, *arrays)\u001b[0m\n\u001b[1;32m   <a href='file:///usr/local/lib/python3.8/dist-packages/sklearn/model_selection/_split.py?line=2190'>2191</a>\u001b[0m         CVClass \u001b[39m=\u001b[39m ShuffleSplit\n\u001b[1;32m   <a href='file:///usr/local/lib/python3.8/dist-packages/sklearn/model_selection/_split.py?line=2192'>2193</a>\u001b[0m     cv \u001b[39m=\u001b[39m CVClass(test_size\u001b[39m=\u001b[39mn_test,\n\u001b[1;32m   <a href='file:///usr/local/lib/python3.8/dist-packages/sklearn/model_selection/_split.py?line=2193'>2194</a>\u001b[0m                  train_size\u001b[39m=\u001b[39mn_train,\n\u001b[1;32m   <a href='file:///usr/local/lib/python3.8/dist-packages/sklearn/model_selection/_split.py?line=2194'>2195</a>\u001b[0m                  random_state\u001b[39m=\u001b[39mrandom_state)\n\u001b[0;32m-> <a href='file:///usr/local/lib/python3.8/dist-packages/sklearn/model_selection/_split.py?line=2196'>2197</a>\u001b[0m     train, test \u001b[39m=\u001b[39m \u001b[39mnext\u001b[39;49m(cv\u001b[39m.\u001b[39;49msplit(X\u001b[39m=\u001b[39;49marrays[\u001b[39m0\u001b[39;49m], y\u001b[39m=\u001b[39;49mstratify))\n\u001b[1;32m   <a href='file:///usr/local/lib/python3.8/dist-packages/sklearn/model_selection/_split.py?line=2198'>2199</a>\u001b[0m \u001b[39mreturn\u001b[39;00m \u001b[39mlist\u001b[39m(chain\u001b[39m.\u001b[39mfrom_iterable((_safe_indexing(a, train),\n\u001b[1;32m   <a href='file:///usr/local/lib/python3.8/dist-packages/sklearn/model_selection/_split.py?line=2199'>2200</a>\u001b[0m                                  _safe_indexing(a, test)) \u001b[39mfor\u001b[39;00m a \u001b[39min\u001b[39;00m arrays))\n",
      "File \u001b[0;32m/usr/local/lib/python3.8/dist-packages/sklearn/model_selection/_split.py:1387\u001b[0m, in \u001b[0;36mBaseShuffleSplit.split\u001b[0;34m(self, X, y, groups)\u001b[0m\n\u001b[1;32m   <a href='file:///usr/local/lib/python3.8/dist-packages/sklearn/model_selection/_split.py?line=1356'>1357</a>\u001b[0m \u001b[39m\"\"\"Generate indices to split data into training and test set.\u001b[39;00m\n\u001b[1;32m   <a href='file:///usr/local/lib/python3.8/dist-packages/sklearn/model_selection/_split.py?line=1357'>1358</a>\u001b[0m \n\u001b[1;32m   <a href='file:///usr/local/lib/python3.8/dist-packages/sklearn/model_selection/_split.py?line=1358'>1359</a>\u001b[0m \u001b[39mParameters\u001b[39;00m\n\u001b[0;32m   (...)\u001b[0m\n\u001b[1;32m   <a href='file:///usr/local/lib/python3.8/dist-packages/sklearn/model_selection/_split.py?line=1383'>1384</a>\u001b[0m \u001b[39mto an integer.\u001b[39;00m\n\u001b[1;32m   <a href='file:///usr/local/lib/python3.8/dist-packages/sklearn/model_selection/_split.py?line=1384'>1385</a>\u001b[0m \u001b[39m\"\"\"\u001b[39;00m\n\u001b[1;32m   <a href='file:///usr/local/lib/python3.8/dist-packages/sklearn/model_selection/_split.py?line=1385'>1386</a>\u001b[0m X, y, groups \u001b[39m=\u001b[39m indexable(X, y, groups)\n\u001b[0;32m-> <a href='file:///usr/local/lib/python3.8/dist-packages/sklearn/model_selection/_split.py?line=1386'>1387</a>\u001b[0m \u001b[39mfor\u001b[39;00m train, test \u001b[39min\u001b[39;00m \u001b[39mself\u001b[39m\u001b[39m.\u001b[39m_iter_indices(X, y, groups):\n\u001b[1;32m   <a href='file:///usr/local/lib/python3.8/dist-packages/sklearn/model_selection/_split.py?line=1387'>1388</a>\u001b[0m     \u001b[39myield\u001b[39;00m train, test\n",
      "File \u001b[0;32m/usr/local/lib/python3.8/dist-packages/sklearn/model_selection/_split.py:1715\u001b[0m, in \u001b[0;36mStratifiedShuffleSplit._iter_indices\u001b[0;34m(self, X, y, groups)\u001b[0m\n\u001b[1;32m   <a href='file:///usr/local/lib/python3.8/dist-packages/sklearn/model_selection/_split.py?line=1712'>1713</a>\u001b[0m class_counts \u001b[39m=\u001b[39m np\u001b[39m.\u001b[39mbincount(y_indices)\n\u001b[1;32m   <a href='file:///usr/local/lib/python3.8/dist-packages/sklearn/model_selection/_split.py?line=1713'>1714</a>\u001b[0m \u001b[39mif\u001b[39;00m np\u001b[39m.\u001b[39mmin(class_counts) \u001b[39m<\u001b[39m \u001b[39m2\u001b[39m:\n\u001b[0;32m-> <a href='file:///usr/local/lib/python3.8/dist-packages/sklearn/model_selection/_split.py?line=1714'>1715</a>\u001b[0m     \u001b[39mraise\u001b[39;00m \u001b[39mValueError\u001b[39;00m(\u001b[39m\"\u001b[39m\u001b[39mThe least populated class in y has only 1\u001b[39m\u001b[39m\"\u001b[39m\n\u001b[1;32m   <a href='file:///usr/local/lib/python3.8/dist-packages/sklearn/model_selection/_split.py?line=1715'>1716</a>\u001b[0m                      \u001b[39m\"\u001b[39m\u001b[39m member, which is too few. The minimum\u001b[39m\u001b[39m\"\u001b[39m\n\u001b[1;32m   <a href='file:///usr/local/lib/python3.8/dist-packages/sklearn/model_selection/_split.py?line=1716'>1717</a>\u001b[0m                      \u001b[39m\"\u001b[39m\u001b[39m number of groups for any class cannot\u001b[39m\u001b[39m\"\u001b[39m\n\u001b[1;32m   <a href='file:///usr/local/lib/python3.8/dist-packages/sklearn/model_selection/_split.py?line=1717'>1718</a>\u001b[0m                      \u001b[39m\"\u001b[39m\u001b[39m be less than 2.\u001b[39m\u001b[39m\"\u001b[39m)\n\u001b[1;32m   <a href='file:///usr/local/lib/python3.8/dist-packages/sklearn/model_selection/_split.py?line=1719'>1720</a>\u001b[0m \u001b[39mif\u001b[39;00m n_train \u001b[39m<\u001b[39m n_classes:\n\u001b[1;32m   <a href='file:///usr/local/lib/python3.8/dist-packages/sklearn/model_selection/_split.py?line=1720'>1721</a>\u001b[0m     \u001b[39mraise\u001b[39;00m \u001b[39mValueError\u001b[39;00m(\u001b[39m'\u001b[39m\u001b[39mThe train_size = \u001b[39m\u001b[39m%d\u001b[39;00m\u001b[39m should be greater or \u001b[39m\u001b[39m'\u001b[39m\n\u001b[1;32m   <a href='file:///usr/local/lib/python3.8/dist-packages/sklearn/model_selection/_split.py?line=1721'>1722</a>\u001b[0m                      \u001b[39m'\u001b[39m\u001b[39mequal to the number of classes = \u001b[39m\u001b[39m%d\u001b[39;00m\u001b[39m'\u001b[39m \u001b[39m%\u001b[39m\n\u001b[1;32m   <a href='file:///usr/local/lib/python3.8/dist-packages/sklearn/model_selection/_split.py?line=1722'>1723</a>\u001b[0m                      (n_train, n_classes))\n",
      "\u001b[0;31mValueError\u001b[0m: The least populated class in y has only 1 member, which is too few. The minimum number of groups for any class cannot be less than 2."
     ]
    }
   ],
   "source": [
    "for course, data in data_process.items():\n",
    "    print(f'Curso = {course}')\n",
    "    model, X_test = catboost(\n",
    "        data,\n",
    "        attrs_course[course],\n",
    "        attrs_cat_course[course],\n",
    "        course\n",
    "    )"
   ]
  },
  {
   "cell_type": "markdown",
   "id": "0b0fae73",
   "metadata": {},
   "source": [
    "Process a single dataframe:"
   ]
  },
  {
   "cell_type": "code",
   "execution_count": null,
   "id": "4e07ef7a",
   "metadata": {
    "scrolled": true
   },
   "outputs": [],
   "source": [
    "# course = 'all'\n",
    "# model, X_test = catboost(\n",
    "#         data_process[course],\n",
    "#         attrs_course[course],\n",
    "#         attrs_cat_course[course],\n",
    "#         course\n",
    "#     )"
   ]
  },
  {
   "cell_type": "markdown",
   "id": "40d6edce",
   "metadata": {},
   "source": [
    "## Using SHAP"
   ]
  },
  {
   "cell_type": "code",
   "execution_count": null,
   "id": "5a3636e2",
   "metadata": {},
   "outputs": [],
   "source": [
    "# explainer = shap.TreeExplainer(model)\n",
    "# start_index = 0\n",
    "# end_index = len(X_test)\n",
    "# shap_values = explainer.shap_values(X_test[start_index:end_index])\n",
    "\n",
    "# shap.initjs()"
   ]
  },
  {
   "cell_type": "code",
   "execution_count": null,
   "id": "fea0a60b",
   "metadata": {},
   "outputs": [],
   "source": [
    "# id = 15\n",
    "# shap.force_plot(explainer.expected_value,\n",
    "#                 shap_values[id:id+1],\n",
    "#                 X_test[id:id+1],\n",
    "#                 matplotlib = True,\n",
    "#                 show = False)\n",
    "\n",
    "# plt.savefig(f'results/explainer{id}.png', dpi=200, bbox_inches='tight', facecolor='#ffffff')"
   ]
  },
  {
   "cell_type": "code",
   "execution_count": null,
   "id": "e3c9fe5f",
   "metadata": {
    "scrolled": true
   },
   "outputs": [],
   "source": [
    "# shap.force_plot(explainer.expected_value,\n",
    "#                 shap_values,\n",
    "#                 X_test[start_index:end_index])"
   ]
  },
  {
   "cell_type": "code",
   "execution_count": null,
   "id": "5ef27001",
   "metadata": {
    "scrolled": true
   },
   "outputs": [],
   "source": [
    "# shap.summary_plot(shap_values, X_test[start_index:end_index], plot_size=(20,20), max_display=50)"
   ]
  },
  {
   "cell_type": "code",
   "execution_count": null,
   "id": "d8a8fe2e",
   "metadata": {},
   "outputs": [],
   "source": [
    "# shap.summary_plot(shap_values, X_test, plot_type='bar', max_display=50)"
   ]
  },
  {
   "cell_type": "code",
   "execution_count": null,
   "id": "ac072f07",
   "metadata": {
    "scrolled": true
   },
   "outputs": [],
   "source": []
  },
  {
   "cell_type": "markdown",
   "id": "236b4521",
   "metadata": {},
   "source": [
    "## Plot Student's House Coordinates"
   ]
  },
  {
   "cell_type": "code",
   "execution_count": null,
   "id": "b8132849",
   "metadata": {
    "scrolled": false
   },
   "outputs": [],
   "source": [
    "# attr = ['aluno', 'cep', 'dropout']\n",
    "# # keys = data_course.keys()\n",
    "# keys = ['all']\n",
    "# for course in keys:\n",
    "#     print(course)\n",
    "#     data = data_course[course].copy()[attr].drop_duplicates()\n",
    "#     utils.plot_coordinates(data, course)\n",
    "# #     utils.plot_coordinates_density(data, course)"
   ]
  },
  {
   "cell_type": "code",
   "execution_count": null,
   "id": "9670f3a5",
   "metadata": {},
   "outputs": [],
   "source": []
  }
 ],
 "metadata": {
  "kernelspec": {
   "display_name": "Python 3 (ipykernel)",
   "language": "python",
   "name": "python3"
  },
  "language_info": {
   "codemirror_mode": {
    "name": "ipython",
    "version": 3
   },
   "file_extension": ".py",
   "mimetype": "text/x-python",
   "name": "python",
   "nbconvert_exporter": "python",
   "pygments_lexer": "ipython3",
   "version": "3.8.10"
  }
 },
 "nbformat": 4,
 "nbformat_minor": 5
}
