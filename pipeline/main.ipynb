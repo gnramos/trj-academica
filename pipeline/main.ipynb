{
 "cells": [
  {
   "cell_type": "markdown",
   "id": "expired-rotation",
   "metadata": {},
   "source": [
    "# Notebook - Análise da evasão\n",
    "\n",
    "Dados do Instituto de Ciências Exatas (IE)."
   ]
  },
  {
   "cell_type": "markdown",
   "id": "stone-snapshot",
   "metadata": {},
   "source": [
    "### Importando bibliotecas:"
   ]
  },
  {
   "cell_type": "code",
   "execution_count": 1,
   "id": "informative-smith",
   "metadata": {},
   "outputs": [],
   "source": [
    "import pandas as pd\n",
    "import numpy as np\n",
    "import matplotlib.pyplot as plt\n",
    "import seaborn as sns\n",
    "\n",
    "\n",
    "from sklearn.metrics import accuracy_score, recall_score, precision_score\n",
    "from sklearn.model_selection import train_test_split\n",
    "from catboost import CatBoostClassifier\n",
    "\n",
    "import utils\n",
    "import pre_process\n",
    "\n",
    "%matplotlib inline"
   ]
  },
  {
   "cell_type": "code",
   "execution_count": null,
   "id": "e2ef40cc",
   "metadata": {},
   "outputs": [],
   "source": [
    "import importlib\n",
    "importlib.reload(utils)"
   ]
  },
  {
   "cell_type": "markdown",
   "id": "funded-airfare",
   "metadata": {},
   "source": [
    " ### Leitura dos dados"
   ]
  },
  {
   "cell_type": "code",
   "execution_count": 2,
   "id": "7d801291",
   "metadata": {},
   "outputs": [],
   "source": [
    "DATA_FILE = '../data/ie_data.csv'\n",
    "data_pre = pd.read_csv(DATA_FILE, sep=';', low_memory=False)"
   ]
  },
  {
   "cell_type": "markdown",
   "id": "4b72c712",
   "metadata": {},
   "source": [
    "## Pré-Processamento"
   ]
  },
  {
   "cell_type": "code",
   "execution_count": 3,
   "id": "bcfc95d6",
   "metadata": {},
   "outputs": [],
   "source": [
    "attrs = []\n",
    "data_pre = pre_process.format_data(data_pre)\n",
    "data_pre = pre_process.erase_attr(data_pre)\n",
    "data_pre = data_pre.dropna()\n",
    "\n",
    "data_pre = pre_process.public_school(data_pre, attrs)\n",
    "data_pre = pre_process.dropout(data_pre, attrs)\n",
    "data_pre = pre_process.course(data_pre, attrs)\n",
    "data_pre = pre_process.gender(data_pre, attrs)\n",
    "data_pre = pre_process.quota(data_pre, attrs)\n",
    "data_pre = pre_process.entry(data_pre, attrs)\n",
    "\n",
    "data_pre = pre_process.cic_courses(data_pre)\n",
    "data_pre = pre_process.erase_interal_transfer_students(data_pre)"
   ]
  },
  {
   "cell_type": "markdown",
   "id": "756dee0a",
   "metadata": {},
   "source": [
    "Divide dataframe by course"
   ]
  },
  {
   "cell_type": "code",
   "execution_count": 4,
   "id": "db9998c4",
   "metadata": {},
   "outputs": [],
   "source": [
    "data_course = pre_process.divide_course(data_pre)\n",
    "data_course['all'] = data_pre"
   ]
  },
  {
   "cell_type": "markdown",
   "id": "c88a2263",
   "metadata": {},
   "source": [
    "### Frequência das disciplinas"
   ]
  },
  {
   "cell_type": "code",
   "execution_count": null,
   "id": "39c8f130",
   "metadata": {},
   "outputs": [],
   "source": [
    "# for course, data in data_course.items():\n",
    "#     print('\\n')\n",
    "#     print(course)\n",
    "#     print(data['nome_disciplina'].value_counts()[:20])"
   ]
  },
  {
   "cell_type": "markdown",
   "id": "65f7207f",
   "metadata": {},
   "source": [
    "### Process Subjects and CEP\n",
    "\n",
    "The Subjects are processed for each course individually, and Cep needs to be processed before all other attributes and drop_duplicates, otherwise it takes too long to process."
   ]
  },
  {
   "cell_type": "code",
   "execution_count": 5,
   "id": "860161af",
   "metadata": {},
   "outputs": [
    {
     "name": "stdout",
     "output_type": "stream",
     "text": [
      "ciência da computação\n",
      "computação\n",
      "engenharia de computação\n",
      "engenharia mecatrônica\n",
      "all\n"
     ]
    }
   ],
   "source": [
    "keys = data_course.keys()\n",
    "# keys = ['ciência da computação']\n",
    "data_analysis = {}\n",
    "for course in keys:\n",
    "    print(course)\n",
    "    data = data_course[course].copy()\n",
    "    attrs_copy = attrs.copy()\n",
    "\n",
    "    # Process subjects for each \n",
    "    data = pre_process.subjects(data, attrs_copy)\n",
    "\n",
    "    # Cep needs to be processed before drop_duplicates,\n",
    "    # otherwise it takes too long to process.\n",
    "    data = data[attrs_copy+['cep', 'aluno']].drop_duplicates()\n",
    "    data = pre_process.cep(data, attrs_copy)\n",
    "    data_analysis[course] = data.copy()\n",
    "    data = data[attrs_copy].drop_duplicates()\n",
    "    data_course[course] = data.copy()"
   ]
  },
  {
   "cell_type": "code",
   "execution_count": 6,
   "id": "7ec9b1fc",
   "metadata": {},
   "outputs": [
    {
     "name": "stdout",
     "output_type": "stream",
     "text": [
      "ciência da computação = (1536, 32)\n",
      "computação = (1228, 32)\n",
      "engenharia de computação = (512, 32)\n",
      "engenharia mecatrônica = (1026, 32)\n",
      "all = (4235, 32)\n"
     ]
    }
   ],
   "source": [
    "for course in data_course.keys():\n",
    "    print(f'{course} = {data_course[course].shape}')"
   ]
  },
  {
   "cell_type": "code",
   "execution_count": null,
   "id": "639650b5",
   "metadata": {},
   "outputs": [],
   "source": [
    "data_process = data_course.copy()"
   ]
  },
  {
   "cell_type": "markdown",
   "id": "63d3e32e",
   "metadata": {},
   "source": [
    "Desbalanceamento da base:"
   ]
  },
  {
   "cell_type": "code",
   "execution_count": null,
   "id": "15a4e478",
   "metadata": {},
   "outputs": [],
   "source": [
    "# data_process['ciência da computação']['dropout'].value_counts()"
   ]
  },
  {
   "cell_type": "markdown",
   "id": "becdb39d",
   "metadata": {},
   "source": [
    "## Processamento"
   ]
  },
  {
   "cell_type": "code",
   "execution_count": null,
   "id": "00b5edba",
   "metadata": {},
   "outputs": [],
   "source": [
    "def process(data):\n",
    "    output_attr = 'dropout'\n",
    "    cat_attr = ['course', 'entry']\n",
    "\n",
    "    X = data.drop(columns=[output_attr])\n",
    "    y = data[output_attr]\n",
    "    X_train, X_test, y_train, y_test = train_test_split(\n",
    "        X, y, test_size=0.3, random_state=42, stratify=y\n",
    "    )\n",
    "\n",
    "    model = CatBoostClassifier()\n",
    "    model.fit(X_train, y_train, cat_features=cat_attr, plot=False, silent=True)\n",
    "\n",
    "    predicts = model.predict(X_test)\n",
    "    predicts = [x == 'True' for x in predicts]\n",
    "    print('Accuracy score:', accuracy_score(y_test, predicts))\n",
    "    print('Recall score:', recall_score(y_test, predicts))\n",
    "    print('Precision score:', precision_score(y_test, predicts))\n",
    "\n",
    "    utils.plot_feature_importance(model.get_feature_importance(), X.columns, 'Catboost')\n",
    "    return model, X_test"
   ]
  },
  {
   "cell_type": "markdown",
   "id": "345aa013",
   "metadata": {},
   "source": [
    "Process all dataframes:"
   ]
  },
  {
   "cell_type": "code",
   "execution_count": null,
   "id": "5d7645b8",
   "metadata": {
    "scrolled": false
   },
   "outputs": [],
   "source": [
    "for course, data in data_process.items():\n",
    "    print(f'\\nCurso = {course}')\n",
    "    model, X_test = process(data)"
   ]
  },
  {
   "cell_type": "markdown",
   "id": "0b0fae73",
   "metadata": {},
   "source": [
    "Process a single dataframe:"
   ]
  },
  {
   "cell_type": "code",
   "execution_count": null,
   "id": "4e07ef7a",
   "metadata": {},
   "outputs": [],
   "source": [
    "course = 'computação'\n",
    "model, X_test = process(data_process[course])"
   ]
  },
  {
   "cell_type": "markdown",
   "id": "40d6edce",
   "metadata": {},
   "source": [
    "## Using SHAP"
   ]
  },
  {
   "cell_type": "code",
   "execution_count": null,
   "id": "5a3636e2",
   "metadata": {},
   "outputs": [],
   "source": [
    "import shap\n",
    "# def shap_plot(model, X_test):\n",
    "explainer = shap.TreeExplainer(model)\n",
    "start_index = 0\n",
    "end_index = 500\n",
    "shap_values = explainer.shap_values(X_test[start_index:end_index])\n",
    "\n",
    "shap.initjs()"
   ]
  },
  {
   "cell_type": "code",
   "execution_count": null,
   "id": "fea0a60b",
   "metadata": {},
   "outputs": [],
   "source": [
    "id = 10\n",
    "shap.force_plot(explainer.expected_value,\n",
    "                shap_values[id:id+1],\n",
    "                X_test[id:id+1])"
   ]
  },
  {
   "cell_type": "code",
   "execution_count": null,
   "id": "e3c9fe5f",
   "metadata": {
    "scrolled": false
   },
   "outputs": [],
   "source": [
    "shap.force_plot(explainer.expected_value,\n",
    "                shap_values,\n",
    "                X_test[start_index:end_index])"
   ]
  },
  {
   "cell_type": "code",
   "execution_count": null,
   "id": "5ef27001",
   "metadata": {
    "scrolled": true
   },
   "outputs": [],
   "source": [
    "shap.summary_plot(shap_values, X[start_index:end_index], plot_size=(20,20))"
   ]
  },
  {
   "cell_type": "code",
   "execution_count": null,
   "id": "ac072f07",
   "metadata": {
    "scrolled": true
   },
   "outputs": [],
   "source": [
    "shap.dependence_plot('programming_subject', shap_values, X_test[start_index:end_index], interaction_index='distance')"
   ]
  },
  {
   "cell_type": "code",
   "execution_count": null,
   "id": "e3c48555",
   "metadata": {
    "scrolled": false
   },
   "outputs": [],
   "source": [
    "shap.summary_plot(shap_values, X_test[start_index:end_index])"
   ]
  },
  {
   "cell_type": "markdown",
   "id": "236b4521",
   "metadata": {},
   "source": [
    "## Plot Student's House Coordinates"
   ]
  },
  {
   "cell_type": "code",
   "execution_count": null,
   "id": "b8132849",
   "metadata": {
    "scrolled": true
   },
   "outputs": [],
   "source": [
    "attr = ['aluno', 'cep', 'dropout', 'course']\n",
    "# keys = data_analysis.keys()\n",
    "keys = ['ciência da computação']\n",
    "for course in keys:\n",
    "    data = data_analysis[course].copy()[attr].drop_duplicates()\n",
    "    utils.plot_coordinates(data, course)\n",
    "    utils.plot_coordinates_density(data, course)"
   ]
  },
  {
   "cell_type": "code",
   "execution_count": null,
   "id": "9670f3a5",
   "metadata": {},
   "outputs": [],
   "source": []
  }
 ],
 "metadata": {
  "kernelspec": {
   "display_name": "Python 3 (ipykernel)",
   "language": "python",
   "name": "python3"
  },
  "language_info": {
   "codemirror_mode": {
    "name": "ipython",
    "version": 3
   },
   "file_extension": ".py",
   "mimetype": "text/x-python",
   "name": "python",
   "nbconvert_exporter": "python",
   "pygments_lexer": "ipython3",
   "version": "3.8.10"
  }
 },
 "nbformat": 4,
 "nbformat_minor": 5
}
