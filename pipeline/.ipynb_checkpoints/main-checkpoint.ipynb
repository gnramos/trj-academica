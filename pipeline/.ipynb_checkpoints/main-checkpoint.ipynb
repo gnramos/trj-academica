{
 "cells": [
  {
   "cell_type": "markdown",
   "id": "expired-rotation",
   "metadata": {},
   "source": [
    "# Notebook - Análise da evasão\n",
    "\n",
    "Dados do Instituto de Ciências Exatas (IE)."
   ]
  },
  {
   "cell_type": "markdown",
   "id": "knowing-spider",
   "metadata": {},
   "source": [
    "## Análise dos dados"
   ]
  },
  {
   "cell_type": "markdown",
   "id": "stone-snapshot",
   "metadata": {},
   "source": [
    "Importando bibliotecas:"
   ]
  },
  {
   "cell_type": "code",
   "execution_count": 1,
   "id": "informative-smith",
   "metadata": {},
   "outputs": [],
   "source": [
    "import pandas as pd\n",
    "import numpy as np\n",
    "import matplotlib.pyplot as plt\n",
    "import seaborn as sns"
   ]
  },
  {
   "cell_type": "markdown",
   "id": "funded-airfare",
   "metadata": {},
   "source": [
    " ### Leitura dos dados"
   ]
  },
  {
   "cell_type": "code",
   "execution_count": 2,
   "id": "7d801291",
   "metadata": {},
   "outputs": [],
   "source": [
    "import pre_process\n",
    "\n",
    "DATA_FILE = '../data/ie_data.csv'\n",
    "data = pd.read_csv(DATA_FILE, sep=';', low_memory=False)\n",
    "# Remove leading and trailing spaces\n",
    "data = data.apply(lambda x: x.str.strip() if x.dtype == \"object\" else x)"
   ]
  },
  {
   "cell_type": "code",
   "execution_count": 3,
   "id": "bcfc95d6",
   "metadata": {},
   "outputs": [],
   "source": [
    "# Pre-Process\n",
    "columns = []\n",
    "data = pre_process.public_school(data, columns)\n",
    "data = pre_process.dropout(data, columns)\n",
    "data = pre_process.course(data, columns)"
   ]
  },
  {
   "cell_type": "code",
   "execution_count": 4,
   "id": "2e4c876d",
   "metadata": {},
   "outputs": [],
   "source": [
    "\n",
    "data = pre_process.gender(data, columns)\n",
    "data = pre_process.quota(data, columns)"
   ]
  },
  {
   "cell_type": "code",
   "execution_count": 5,
   "id": "4ba762ee",
   "metadata": {},
   "outputs": [],
   "source": [
    "\n",
    "data = pre_process.ira(data, columns)"
   ]
  },
  {
   "cell_type": "code",
   "execution_count": null,
   "id": "a9e94991",
   "metadata": {},
   "outputs": [],
   "source": [
    "data = pre_process.cep(data, columns)"
   ]
  },
  {
   "cell_type": "code",
   "execution_count": null,
   "id": "f54aa73f",
   "metadata": {},
   "outputs": [],
   "source": []
  }
 ],
 "metadata": {
  "kernelspec": {
   "display_name": "Python 3 (ipykernel)",
   "language": "python",
   "name": "python3"
  },
  "language_info": {
   "codemirror_mode": {
    "name": "ipython",
    "version": 3
   },
   "file_extension": ".py",
   "mimetype": "text/x-python",
   "name": "python",
   "nbconvert_exporter": "python",
   "pygments_lexer": "ipython3",
   "version": "3.8.10"
  }
 },
 "nbformat": 4,
 "nbformat_minor": 5
}
